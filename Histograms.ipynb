{
 "cells": [
  {
   "cell_type": "code",
   "execution_count": 4,
   "id": "ac916d7b",
   "metadata": {},
   "outputs": [],
   "source": [
    "import os\n",
    "import pandas as pd\n",
    "from delphes_reader.root_analysis import make_histograms"
   ]
  },
  {
   "cell_type": "code",
   "execution_count": 13,
   "id": "c3326dcd",
   "metadata": {},
   "outputs": [
    {
     "data": {
      "text/plain": [
       "['Cutflow_b_tau_tau_hadronic_(al)one_jet.csv',\n",
       " 'LQ_LQ_0250_b_tau_tau_hadronic_(al)one_jet.csv',\n",
       " 'LQ_LQ_0500_b_tau_tau_hadronic_(al)one_jet.csv',\n",
       " 'LQ_LQ_0750_b_tau_tau_hadronic_(al)one_jet.csv',\n",
       " 'LQ_LQ_1000_b_tau_tau_hadronic_(al)one_jet.csv',\n",
       " 'LQ_LQ_1250_b_tau_tau_hadronic_(al)one_jet.csv',\n",
       " 'LQ_LQ_1500_b_tau_tau_hadronic_(al)one_jet.csv',\n",
       " 'LQ_LQ_1750_b_tau_tau_hadronic_(al)one_jet.csv',\n",
       " 'LQ_LQ_2000_b_tau_tau_hadronic_(al)one_jet.csv',\n",
       " 'LQ_LQ_2250_b_tau_tau_hadronic_(al)one_jet.csv',\n",
       " 'LQ_LQ_2500_b_tau_tau_hadronic_(al)one_jet.csv',\n",
       " 'Tau_LQ_0250_b_tau_tau_hadronic_(al)one_jet.csv',\n",
       " 'Tau_LQ_0500_b_tau_tau_hadronic_(al)one_jet.csv',\n",
       " 'Tau_LQ_0750_b_tau_tau_hadronic_(al)one_jet.csv',\n",
       " 'Tau_LQ_1000_b_tau_tau_hadronic_(al)one_jet.csv',\n",
       " 'Tau_LQ_1250_b_tau_tau_hadronic_(al)one_jet.csv',\n",
       " 'Tau_LQ_1500_b_tau_tau_hadronic_(al)one_jet.csv',\n",
       " 'Tau_LQ_1750_b_tau_tau_hadronic_(al)one_jet.csv',\n",
       " 'Tau_LQ_2000_b_tau_tau_hadronic_(al)one_jet.csv',\n",
       " 'Tau_LQ_2250_b_tau_tau_hadronic_(al)one_jet.csv',\n",
       " 'Tau_LQ_2500_b_tau_tau_hadronic_(al)one_jet.csv',\n",
       " 'Tau_LQ_Merged_0250_b_tau_tau_hadronic_(al)one_jet.csv',\n",
       " 'Tau_LQ_Merged_0500_b_tau_tau_hadronic_(al)one_jet.csv',\n",
       " 'Tau_LQ_Merged_0750_b_tau_tau_hadronic_(al)one_jet.csv',\n",
       " 'Tau_LQ_Merged_1000_b_tau_tau_hadronic_(al)one_jet.csv',\n",
       " 'Tau_LQ_Merged_1250_b_tau_tau_hadronic_(al)one_jet.csv',\n",
       " 'Tau_LQ_Merged_1500_b_tau_tau_hadronic_(al)one_jet.csv',\n",
       " 'Tau_LQ_Merged_1750_b_tau_tau_hadronic_(al)one_jet.csv',\n",
       " 'Tau_LQ_Merged_2000_b_tau_tau_hadronic_(al)one_jet.csv',\n",
       " 'Tau_LQ_Merged_2250_b_tau_tau_hadronic_(al)one_jet.csv',\n",
       " 'Tau_LQ_Merged_2500_b_tau_tau_hadronic_(al)one_jet.csv',\n",
       " 'stop_b_tau_tau_hadronic_(al)one_jet.csv',\n",
       " 'ttbar_b_tau_tau_hadronic_(al)one_jet.csv',\n",
       " 'w_jets_b_tau_tau_hadronic_(al)one_jet.csv',\n",
       " 'ww_b_tau_tau_hadronic_(al)one_jet.csv',\n",
       " 'wz_b_tau_tau_hadronic_(al)one_jet.csv',\n",
       " 'z_jets_b_tau_tau_hadronic_(al)one_jet.csv',\n",
       " 'zz_b_tau_tau_hadronic_(al)one_jet.csv']"
      ]
     },
     "execution_count": 13,
     "metadata": {},
     "output_type": "execute_result"
    }
   ],
   "source": [
    "csv_files=[]\n",
    "folder_out=\"Leptoquarks_searches/03_delphes_analysis/csv_files\"\n",
    "for file in next(os.walk(folder_out))[2]:\n",
    "    if \"hadronic_(al)one_jet.csv\" in file:\n",
    "        csv_files+=[file]\n",
    "    else:\n",
    "        pass \n",
    "csv_files.sort()\n",
    "csv_files"
   ]
  },
  {
   "cell_type": "code",
   "execution_count": 14,
   "id": "f48d6b26",
   "metadata": {},
   "outputs": [],
   "source": [
    "def read_csv(file):\n",
    "    path_to_file=os.path.join(folder_out,file)\n",
    "    df=pd.read_csv(path_to_file)\n",
    "    return file.removesuffix('_hadronic_(al)one_jet.csv'), df"
   ]
  },
  {
   "cell_type": "code",
   "execution_count": 15,
   "id": "8513c681",
   "metadata": {},
   "outputs": [
    {
     "name": "stdout",
     "output_type": "stream",
     "text": [
      "Cutflow_b_tau_tau: 6\n",
      "LQ_LQ_0250_b_tau_tau: 15601\n",
      "LQ_LQ_0500_b_tau_tau: 13290\n",
      "LQ_LQ_0750_b_tau_tau: 12485\n",
      "LQ_LQ_1000_b_tau_tau: 12360\n",
      "LQ_LQ_1250_b_tau_tau: 12118\n",
      "LQ_LQ_1500_b_tau_tau: 11855\n",
      "LQ_LQ_1750_b_tau_tau: 11466\n",
      "LQ_LQ_2000_b_tau_tau: 11479\n",
      "LQ_LQ_2250_b_tau_tau: 11316\n",
      "LQ_LQ_2500_b_tau_tau: 10969\n",
      "Tau_LQ_0250_b_tau_tau: 15105\n",
      "Tau_LQ_0500_b_tau_tau: 16545\n",
      "Tau_LQ_0750_b_tau_tau: 17305\n",
      "Tau_LQ_1000_b_tau_tau: 17767\n",
      "Tau_LQ_1250_b_tau_tau: 17896\n",
      "Tau_LQ_1500_b_tau_tau: 18053\n",
      "Tau_LQ_1750_b_tau_tau: 18152\n",
      "Tau_LQ_2000_b_tau_tau: 18173\n",
      "Tau_LQ_2250_b_tau_tau: 18149\n",
      "Tau_LQ_2500_b_tau_tau: 18075\n",
      "Tau_LQ_Merged_0250_b_tau_tau: 18307\n",
      "Tau_LQ_Merged_0500_b_tau_tau: 19270\n",
      "Tau_LQ_Merged_0750_b_tau_tau: 19738\n",
      "Tau_LQ_Merged_1000_b_tau_tau: 20016\n",
      "Tau_LQ_Merged_1250_b_tau_tau: 20102\n",
      "Tau_LQ_Merged_1500_b_tau_tau: 20024\n",
      "Tau_LQ_Merged_1750_b_tau_tau: 20106\n",
      "Tau_LQ_Merged_2000_b_tau_tau: 19780\n",
      "Tau_LQ_Merged_2250_b_tau_tau: 19840\n",
      "Tau_LQ_Merged_2500_b_tau_tau: 19693\n",
      "stop_b_tau_tau: 4363\n",
      "ttbar_b_tau_tau: 33481\n",
      "w_jets_b_tau_tau: 141\n",
      "ww_b_tau_tau: 461\n",
      "wz_b_tau_tau: 996\n",
      "z_jets_b_tau_tau: 180\n",
      "zz_b_tau_tau: 2718\n"
     ]
    }
   ],
   "source": [
    "data_dict=dict(map(read_csv,csv_files))\n",
    "for signal in data_dict:\n",
    "    print( signal+\":\" , len(data_dict[signal]) )"
   ]
  },
  {
   "cell_type": "code",
   "execution_count": 16,
   "id": "d802489f",
   "metadata": {},
   "outputs": [
    {
     "ename": "KeyError",
     "evalue": "'LQ_LQ_0500'",
     "output_type": "error",
     "traceback": [
      "\u001b[0;31m---------------------------------------------------------------------------\u001b[0m",
      "\u001b[0;31mKeyError\u001b[0m                                  Traceback (most recent call last)",
      "Input \u001b[0;32mIn [16]\u001b[0m, in \u001b[0;36m<cell line: 1>\u001b[0;34m()\u001b[0m\n\u001b[0;32m----> 1\u001b[0m make_histograms(\u001b[43mdata_dict\u001b[49m\u001b[43m[\u001b[49m\u001b[38;5;124;43m\"\u001b[39;49m\u001b[38;5;124;43mLQ_LQ_0500\u001b[39;49m\u001b[38;5;124;43m\"\u001b[39;49m\u001b[43m]\u001b[49m,\u001b[38;5;241m1.0\u001b[39m)\n",
      "\u001b[0;31mKeyError\u001b[0m: 'LQ_LQ_0500'"
     ]
    }
   ],
   "source": [
    "make_histograms(data_dict[\"LQ_LQ_0500\"],1.0)"
   ]
  },
  {
   "cell_type": "code",
   "execution_count": 20,
   "id": "fbf29400",
   "metadata": {},
   "outputs": [
    {
     "ename": "ZeroDivisionError",
     "evalue": "float division by zero",
     "output_type": "error",
     "traceback": [
      "\u001b[0;31m---------------------------------------------------------------------------\u001b[0m",
      "\u001b[0;31mZeroDivisionError\u001b[0m                         Traceback (most recent call last)",
      "Input \u001b[0;32mIn [20]\u001b[0m, in \u001b[0;36m<cell line: 3>\u001b[0;34m()\u001b[0m\n\u001b[1;32m      1\u001b[0m \u001b[38;5;28;01mimport\u001b[39;00m \u001b[38;5;21;01mROOT\u001b[39;00m\n\u001b[1;32m      2\u001b[0m c\u001b[38;5;241m=\u001b[39mROOT\u001b[38;5;241m.\u001b[39mTCanvas(\u001b[38;5;124m\"\u001b[39m\u001b[38;5;124mc1\u001b[39m\u001b[38;5;124m\"\u001b[39m,\u001b[38;5;124m\"\u001b[39m\u001b[38;5;124m\"\u001b[39m,\u001b[38;5;241m800\u001b[39m,\u001b[38;5;241m600\u001b[39m)\n\u001b[0;32m----> 3\u001b[0m h\u001b[38;5;241m=\u001b[39m\u001b[43mmake_histograms\u001b[49m\u001b[43m(\u001b[49m\u001b[43mdata_dict\u001b[49m\u001b[43m[\u001b[49m\u001b[38;5;124;43m\"\u001b[39;49m\u001b[38;5;124;43mLQ_LQ_1500_b_tau_tau\u001b[39;49m\u001b[38;5;124;43m\"\u001b[39;49m\u001b[43m]\u001b[49m\u001b[43m,\u001b[49m\u001b[38;5;241;43m1.0\u001b[39;49m\u001b[43m)\u001b[49m[\u001b[38;5;124m\"\u001b[39m\u001b[38;5;124mlight_jets_multiplicity\u001b[39m\u001b[38;5;124m\"\u001b[39m]\n\u001b[1;32m      4\u001b[0m h\u001b[38;5;241m.\u001b[39mDraw(\u001b[38;5;124m\"\u001b[39m\u001b[38;5;124mHIST\u001b[39m\u001b[38;5;124m\"\u001b[39m)\n\u001b[1;32m      5\u001b[0m c\u001b[38;5;241m.\u001b[39mDraw()\n",
      "File \u001b[0;32m~/Pheno_BSM/delphes_reader/root_analysis.py:56\u001b[0m, in \u001b[0;36mmake_histograms\u001b[0;34m(df, integral, hist_bins_dict)\u001b[0m\n\u001b[1;32m     54\u001b[0m         \u001b[38;5;28;01mfor\u001b[39;00m value \u001b[38;5;129;01min\u001b[39;00m df[key]:\n\u001b[1;32m     55\u001b[0m             h\u001b[38;5;241m.\u001b[39mFill(value)\n\u001b[0;32m---> 56\u001b[0m         h\u001b[38;5;241m.\u001b[39mScale(\u001b[43mintegral\u001b[49m\u001b[38;5;241;43m/\u001b[39;49m\u001b[43mh\u001b[49m\u001b[38;5;241;43m.\u001b[39;49m\u001b[43mIntegral\u001b[49m\u001b[43m(\u001b[49m\u001b[43m)\u001b[49m)\n\u001b[1;32m     57\u001b[0m         hist_dict\u001b[38;5;241m.\u001b[39mupdate({key : h})\n\u001b[1;32m     58\u001b[0m \u001b[38;5;28;01mreturn\u001b[39;00m hist_dict\n",
      "\u001b[0;31mZeroDivisionError\u001b[0m: float division by zero"
     ]
    },
    {
     "name": "stderr",
     "output_type": "stream",
     "text": [
      "Warning in <TCanvas::Constructor>: Deleting canvas with same name: c1\n"
     ]
    }
   ],
   "source": [
    "import ROOT\n",
    "c=ROOT.TCanvas(\"c1\",\"\",800,600)\n",
    "h=make_histograms(data_dict[\"LQ_LQ_1500_b_tau_tau\"],1.0)[\"light_jets_multiplicity\"]\n",
    "h.Draw(\"HIST\")\n",
    "c.Draw()"
   ]
  },
  {
   "cell_type": "code",
   "execution_count": 25,
   "id": "a07151da",
   "metadata": {},
   "outputs": [
    {
     "data": {
      "image/png": "[encoded data removed]",
      "text/plain": [
       "<IPython.core.display.Image object>"
      ]
     },
     "metadata": {},
     "output_type": "display_data"
    }
   ],
   "source": [
    "h=ROOT.TH1F(\n",
    "            \"n_jets\",\";light_jets_multiplicity; Events\",\n",
    "            10,0,10\n",
    "        )\n",
    "df=data_dict[\"Tau_LQ_1500_b_tau_tau\"]\n",
    "for value in df[\"light_jets_multiplicity\"]:\n",
    "    h.Fill(value)\n",
    "h.Draw(\"HIST\")\n",
    "c.Draw()"
   ]
  },
  {
   "cell_type": "code",
   "execution_count": null,
   "id": "10fe1282",
   "metadata": {},
   "outputs": [],
   "source": []
  }
 ],
 "metadata": {
  "kernelspec": {
   "display_name": "Python 3 (ipykernel)",
   "language": "python",
   "name": "python3"
  },
  "language_info": {
   "codemirror_mode": {
    "name": "ipython",
    "version": 3
   },
   "file_extension": ".py",
   "mimetype": "text/x-python",
   "name": "python",
   "nbconvert_exporter": "python",
   "pygments_lexer": "ipython3",
   "version": "3.10.6"
  }
 },
 "nbformat": 4,
 "nbformat_minor": 5
}
