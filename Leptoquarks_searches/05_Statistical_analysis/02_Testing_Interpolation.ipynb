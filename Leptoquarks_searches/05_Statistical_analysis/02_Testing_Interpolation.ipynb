{
 "cells": [
  {
   "cell_type": "markdown",
   "id": "e27f2031-e572-4169-9729-2c14da99d2ea",
   "metadata": {},
   "source": [
    "https://stackoverflow.com/questions/60481471/trying-to-interpolate-the-output-of-a-histogram-function-in-python"
   ]
  },
  {
   "cell_type": "code",
   "execution_count": 1,
   "id": "7d276141-b100-41b6-854d-8ad6e3ac56c4",
   "metadata": {},
   "outputs": [
    {
     "name": "stdout",
     "output_type": "stream",
     "text": [
      "Welcome to JupyROOT 6.22/06\n"
     ]
    }
   ],
   "source": [
    "import os\n",
    "from pathlib import Path\n",
    "from ROOT import TFile, TMath, TF1, gROOT, TCanvas, TGraph, TGraphErrors, TH1F"
   ]
  },
  {
   "cell_type": "code",
   "execution_count": 2,
   "id": "0bd70bad-520f-4009-90e2-f35631c722f1",
   "metadata": {},
   "outputs": [],
   "source": [
    "def getall(d, basepath=\"/\"):\n",
    "    \"Generator function to recurse into a ROOT file/dir and yield (path, obj) pairs\"\n",
    "    for key in d.GetListOfKeys():\n",
    "        kname = key.GetName()\n",
    "        if key.IsFolder():\n",
    "            # TODO: -> \"yield from\" in Py3\n",
    "            for i in getall(d.Get(kname), basepath+kname+\"/\"):\n",
    "                yield i\n",
    "        else:\n",
    "            yield d.Get(kname)"
   ]
  },
  {
   "cell_type": "code",
   "execution_count": 3,
   "id": "5224b979-7d71-4d9e-a86a-eff3ad169bbc",
   "metadata": {},
   "outputs": [],
   "source": [
    "folder_out=os.path.join(\n",
    "    os.path.dirname(os.getcwd()),\n",
    "    \"04_ML_analysis\"\n",
    ")\n",
    "path_root = Path(folder_out)\n",
    "files=[root_file.as_posix() for root_file in path_root.glob('**/*.root')]"
   ]
  },
  {
   "cell_type": "code",
   "execution_count": 4,
   "id": "5c897a9b-1594-422b-8e89-00cca1c9912e",
   "metadata": {},
   "outputs": [
    {
     "name": "stdout",
     "output_type": "stream",
     "text": [
      "LQ_LQ_1000_b_tau_tau_hadronic\n"
     ]
    },
    {
     "data": {
      "image/png": "[encoded data removed]",
      "text/plain": [
       "<IPython.core.display.Image object>"
      ]
     },
     "metadata": {},
     "output_type": "display_data"
    }
   ],
   "source": [
    "c1=TCanvas(\"\",\"\",800,600)\n",
    "c1.SetLogy()\n",
    "a=1\n",
    "x=[0]\n",
    "y=[0]\n",
    "err_y=[0]\n",
    "for file in files:\n",
    "    f=TFile(file)\n",
    "    for h in getall(f):\n",
    "        if (h.GetName()!=\"LQ_LQ_1000_b_tau_tau_hadronic\"): continue\n",
    "        h.Scale(1.0/h.Integral())\n",
    "        h.Draw()\n",
    "        print(h.GetName())\n",
    "        sum_=0.\n",
    "        erry=0.0\n",
    "        dx=1./h.GetNbinsX()\n",
    "        for i in range (h.GetNbinsX()):\n",
    "            if h.GetBinContent(i+1) !=0 :\n",
    "                x.append((i+1)*(1./h.GetNbinsX()))\n",
    "                sum_+=h.GetBinContent(i+1)\n",
    "                erry+=h.GetBinError(i+1)\n",
    "                y.append(sum_)\n",
    "                err_y.append(erry)\n",
    "        break\n",
    "    break\n",
    "if x[len(x)-1]<1 :\n",
    "    x.append(1.)\n",
    "    y.append(1.)\n",
    "    err_y.append(err_y[len(err_y)-1])\n",
    "\n",
    "err_x=[dx/2 for i in x]\n",
    "c1.Draw()"
   ]
  },
  {
   "cell_type": "code",
   "execution_count": 5,
   "id": "117c9c01-8118-40f2-999c-cff2031f4f45",
   "metadata": {},
   "outputs": [
    {
     "data": {
      "text/plain": [
       "array([1.87802012e-12, 7.51186810e-12, 1.69012253e-11, ...,\n",
       "       9.99911833e-01, 9.99960060e-01, 1.00000829e+00])"
      ]
     },
     "execution_count": 5,
     "metadata": {},
     "output_type": "execute_result"
    }
   ],
   "source": [
    "import numpy as np\n",
    "from scipy.interpolate import PchipInterpolator\n",
    "x=np.array(x)\n",
    "y=np.array(y)\n",
    "\n",
    "err_x=np.array(err_x)\n",
    "err_y=np.array(err_y)\n",
    "\n",
    "y_sup=y+err_y\n",
    "y_inf=y-err_y\n",
    "\n",
    "y_sup=y_sup/max(y_sup)\n",
    "y_inf=y_inf/max(y_inf)\n",
    "\n",
    "interp_func_mid=PchipInterpolator(x, y)\n",
    "interp_func_sup=PchipInterpolator(x, y_sup)\n",
    "interp_func_inf=PchipInterpolator(x, y_inf)\n",
    "\n",
    "step=1e-6\n",
    "new_x = np.log(np.arange(1., np.exp(1), step)+step)\n",
    "new_y_sup = interp_func_sup(new_x)\n",
    "new_y_inf = interp_func_inf(new_x)\n",
    "\n",
    "\"\"\"\n",
    "n=1\n",
    "Y=[]\n",
    "X=[]\n",
    "\n",
    "for num in new_x:\n",
    "    a=interp_func_sup(num)\n",
    "    b=interp_func_inf(num)\n",
    "    s=np.random.normal(abs(a+b)/2., abs(a-b)/4.,n)\n",
    "    for int_ in s:\n",
    "        Y.append(int_)\n",
    "        X.append(num) \n",
    "Y=np.array(Y)\n",
    "X=np.array(X)\n",
    "\"\"\"\n",
    "X=new_x\n",
    "Y=interp_func_mid(new_x)\n",
    "Y"
   ]
  },
  {
   "cell_type": "code",
   "execution_count": 6,
   "id": "a5dc6035-e5b0-45a8-bd7b-8dcfc55f32eb",
   "metadata": {},
   "outputs": [],
   "source": [
    "import numpy as np\n",
    "from scipy import signal as sig\n",
    "from matplotlib import pyplot as plt\n",
    "import seaborn as sns\n",
    "from __future__ import division, print_function"
   ]
  },
  {
   "cell_type": "code",
   "execution_count": 7,
   "id": "e4ccb3ac-646e-4a5d-be00-4aa89eb8ee85",
   "metadata": {},
   "outputs": [],
   "source": [
    "def butter_filtfilt( x, Wn=0.5, axis=0 ):\n",
    "    \"\"\" butter( 2, Wn ), filtfilt\n",
    "        axis 0 each col, -1 each row\n",
    "    \"\"\"\n",
    "    b, a = sig.butter( N=2, Wn=Wn )\n",
    "    return sig.filtfilt( b, a, x, axis=axis, method=\"gust\" )  # twice, forward backward"
   ]
  },
  {
   "cell_type": "code",
   "execution_count": 8,
   "id": "c0441b26-f490-4125-8d6c-d5952f4f2af4",
   "metadata": {},
   "outputs": [],
   "source": [
    "def ints( x ):\n",
    "    return x.round().astype(int)"
   ]
  },
  {
   "cell_type": "code",
   "execution_count": 9,
   "id": "28d047fa-f841-4adc-87d0-447a07337ae1",
   "metadata": {},
   "outputs": [],
   "source": [
    "def minavmax( x ):\n",
    "    return \"min av max %.3g %.3g %.3g\" % (\n",
    "        x.min(), \n",
    "        x.mean(), \n",
    "        x.max() \n",
    "    )"
   ]
  },
  {
   "cell_type": "code",
   "execution_count": 10,
   "id": "381091ab-bfe0-4622-8a5b-70e7e81d2e16",
   "metadata": {},
   "outputs": [],
   "source": [
    "def pvec( x ):\n",
    "    n = len(x) // 25 * 25\n",
    "    return \"%s \\n%s \\n\" % (\n",
    "        minavmax( x ),\n",
    "        ints( x[ - n : ]) .reshape( -1, 25 ))"
   ]
  },
  {
   "cell_type": "code",
   "execution_count": 11,
   "id": "992d1d18-d102-4af1-8109-447d32cfa0b6",
   "metadata": {},
   "outputs": [],
   "source": [
    "#...............................................................................\n",
    "def monofit( a, Wn=1e-3):\n",
    "    y=a\n",
    "    y=np.log(a)\n",
    "    \"\"\" monotone-increasing curve fit \"\"\"\n",
    "    y = np.asarray(y).squeeze()\n",
    "    \n",
    "    ygrad = np.gradient( y )\n",
    "\n",
    "    # lowpass filter --\n",
    "    gradsmooth = butter_filtfilt( ygrad, Wn=Wn )\n",
    "\n",
    "    ge0 = np.fmax( gradsmooth, 0 )\n",
    "\n",
    "    ymono = np.cumsum( ge0 )  # integrate, sensitive to first few\n",
    "    ymono += (y - ymono).mean()\n",
    "\n",
    "    err = y - ymono\n",
    "    errstr = \"average |y - monofit|: %.2g\" % np.abs( err*100 ).mean()\n",
    "    ymono=np.exp(ymono)\n",
    "    return ymono, err, errstr"
   ]
  },
  {
   "cell_type": "code",
   "execution_count": 12,
   "id": "f0d9300c-055e-41fd-b1b0-1c3aa788865f",
   "metadata": {},
   "outputs": [
    {
     "data": {
      "text/plain": [
       "'average |y - monofit|: 2.9'"
      ]
     },
     "execution_count": 12,
     "metadata": {},
     "output_type": "execute_result"
    }
   ],
   "source": [
    "Wn=step*80\n",
    "ymono, err, errstr = monofit( Y , Wn )\n",
    "errstr"
   ]
  },
  {
   "cell_type": "code",
   "execution_count": 13,
   "id": "cd93a2ca-acfd-4f2f-8d6f-f6910f96f7dc",
   "metadata": {},
   "outputs": [],
   "source": [
    "Y=ymono/max(ymono)"
   ]
  },
  {
   "cell_type": "code",
   "execution_count": 14,
   "id": "b98b9a7c-2747-4f43-9692-55a32c9aaa17",
   "metadata": {},
   "outputs": [
    {
     "name": "stderr",
     "output_type": "stream",
     "text": [
      "Warning in <TCanvas::Constructor>: Deleting canvas with same name: c1\n"
     ]
    },
    {
     "data": {
      "image/png": "[encoded data removed]",
      "text/plain": [
       "<IPython.core.display.Image object>"
      ]
     },
     "metadata": {},
     "output_type": "display_data"
    }
   ],
   "source": [
    "c1=TCanvas(\"c1\",\"\",800,600)\n",
    "c1.SetLogx()\n",
    "c1.SetLogy()\n",
    "c1.SetGrid()\n",
    "\n",
    "g=TGraphErrors(len(x),x,y)#,err_x,err_y)\n",
    "g.SetLineWidth(3)\n",
    "#g.SetMaximum(1.1)\n",
    "g.SetMarkerStyle(8)\n",
    "g.SetMarkerColor(2)\n",
    "\n",
    "g2=TGraph(len(new_x),new_x,new_y_sup)\n",
    "g2.SetLineColor(2)\n",
    "\n",
    "g3=TGraph(len(new_x),new_x,new_y_inf)\n",
    "g3.SetLineColor(2)\n",
    "\n",
    "g4=TGraph(len(X),X,Y)\n",
    "g4.SetLineColor(3)\n",
    "g4.SetLineWidth(3)\n",
    "\n",
    "g4.SetMinimum(1e-4)\n",
    "g4.SetMaximum(1)\n",
    "g4.GetXaxis().SetRangeUser(0.01,1)\n",
    "g4.Draw(\"al\")\n",
    "g.Draw(\"l\")\n",
    "\n",
    "g2.Draw(\"l\")\n",
    "g3.Draw(\"l\")\n",
    "\n",
    "c1.Draw()"
   ]
  },
  {
   "cell_type": "code",
   "execution_count": 15,
   "id": "f0ec1010-e1a1-4022-86ac-29e14d382816",
   "metadata": {},
   "outputs": [
    {
     "name": "stderr",
     "output_type": "stream",
     "text": [
      "Warning in <TCanvas::Constructor>: Deleting canvas with same name: c1\n"
     ]
    },
    {
     "data": {
      "image/png": "[encoded data removed]",
      "text/plain": [
       "<IPython.core.display.Image object>"
      ]
     },
     "metadata": {},
     "output_type": "display_data"
    }
   ],
   "source": [
    "c1=TCanvas(\"c1\",\"\",800,600)\n",
    "c1.SetLogy()\n",
    "from scipy import interpolate\n",
    "tck = interpolate.splrep(X, Y, s=0)\n",
    "step=step/10\n",
    "xnew = np.log(np.arange(1., np.exp(1), step)+step)\n",
    "ynew = interpolate.splev(xnew, tck, der=0)\n",
    "\n",
    "interp_func = PchipInterpolator(xnew, ynew)\n",
    "n_bins=100\n",
    "hist_test=TH1F(\"test\",\"test\",n_bins,0.,1.)\n",
    "\n",
    "for bin_ in range(hist_test.GetNbinsX()):\n",
    "    hist_test.SetBinContent(bin_+1,interp_func((bin_+1)/n_bins)-interp_func((bin_)/n_bins))\n",
    "    \n",
    "h.Scale(1./h.Integral())\n",
    "h.Draw(\"HIST\")\n",
    "h.Rebin(int(h.GetNbinsX()/n_bins))\n",
    "h.SetMinimum(1e-6)\n",
    "\n",
    "hist_test.Scale(h.GetBinContent(1)/hist_test.GetBinContent(1))\n",
    "\n",
    "hist_test.SetLineColor(2)\n",
    "hist_test.DrawNormalized(\"HISTsame\")\n",
    "\n",
    "c1.Draw()"
   ]
  },
  {
   "cell_type": "code",
   "execution_count": null,
   "id": "9eef0987-360c-42af-9f3f-9c14f52e1852",
   "metadata": {},
   "outputs": [],
   "source": []
  },
  {
   "cell_type": "code",
   "execution_count": 16,
   "id": "b39ab1c1-a80b-4d01-8182-75537536bd48",
   "metadata": {},
   "outputs": [
    {
     "name": "stdout",
     "output_type": "stream",
     "text": [
      "3\n",
      "4\n",
      "5\n",
      "6\n",
      "7\n",
      "8\n"
     ]
    }
   ],
   "source": [
    "for i in range (3,9):\n",
    "    print (i)"
   ]
  },
  {
   "cell_type": "code",
   "execution_count": null,
   "id": "62caabfa-6237-40e6-b86e-98c6c756708a",
   "metadata": {},
   "outputs": [],
   "source": []
  }
 ],
 "metadata": {
  "kernelspec": {
   "display_name": "Python 3 (ipykernel)",
   "language": "python",
   "name": "python3"
  },
  "language_info": {
   "codemirror_mode": {
    "name": "ipython",
    "version": 3
   },
   "file_extension": ".py",
   "mimetype": "text/x-python",
   "name": "python",
   "nbconvert_exporter": "python",
   "pygments_lexer": "ipython3",
   "version": "3.9.4"
  }
 },
 "nbformat": 4,
 "nbformat_minor": 5
}
