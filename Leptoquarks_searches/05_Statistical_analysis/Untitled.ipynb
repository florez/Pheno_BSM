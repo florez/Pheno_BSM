{
 "cells": [
  {
   "cell_type": "code",
   "execution_count": 1,
   "id": "af9a1fb8-ab6a-4939-9cc1-5923794781e6",
   "metadata": {},
   "outputs": [
    {
     "name": "stdout",
     "output_type": "stream",
     "text": [
      "Welcome to JupyROOT 6.22/06\n"
     ]
    }
   ],
   "source": [
    "from ROOT import TFile\n",
    "\n",
    "def getall(d, basepath=\"/\"):\n",
    "    \"Generator function to recurse into a ROOT file/dir and yield (path, obj) pairs\"\n",
    "    for key in d.GetListOfKeys():\n",
    "        kname = key.GetName()\n",
    "        if key.IsFolder():\n",
    "            # TODO: -> \"yield from\" in Py3\n",
    "            for i in getall(d.Get(kname), basepath+kname+\"/\"):\n",
    "                yield i\n",
    "        else:\n",
    "            yield d.Get(kname)\n",
    "def get_Bins_from_histo(h):\n",
    "    bins=[h.GetBinContent(bin_+1) for bin_ in range(h.GetNbinsX())]\n",
    "    return h.GetTitle() ,  bins\n",
    "\n",
    "\n",
    "def convert_histos_to_txt(file):\n",
    "    parent_dir=os.path.dirname(file)\n",
    "    save_dir=parent_dir.replace(\n",
    "        os.path.basename(folder_out),\n",
    "        os.path.basename(os.getcwd())\n",
    "    )\n",
    "    !rm -rf {save_dir}/*\n",
    "    !mkdir -p {save_dir}\n",
    "    #print(os.path.basename(file))\n",
    "    f=TFile(file)\n",
    "    bins=dict(map(get_Bins_from_histo,getall(f)))\n",
    "    bins[\"bosons\"]=[]\n",
    "    bosons_list=[\"w_jets\",\"z_jets\",\"ww\",\"wz\",\"zz\"]\n",
    "    for i in range(len(bins[\"w_jets\"])):\n",
    "        sum_=0.\n",
    "        for key in bosons_list:\n",
    "            sum_+=bins[key][i]\n",
    "        bins[\"bosons\"].append(sum_)\n",
    "    bins[\"signal\"]=[]\n",
    "    signal_list=[]\n",
    "    for i in range(len(bins[\"w_jets\"])):\n",
    "        sum_=0.\n",
    "        for key in bins:\n",
    "            if not (\"LQ_\" in key): continue\n",
    "            signal_list.append(key)\n",
    "            sum_+=bins[key][i]\n",
    "        bins[\"signal\"].append(sum_)\n",
    "    for key in bosons_list+signal_list:\n",
    "        try: \n",
    "            bins.pop(key)\n",
    "        except:\n",
    "            continue\n",
    "    \n",
    "    for key in bins:\n",
    "        with open(os.path.join(save_dir,f'{key}.txt'), 'w') as f:\n",
    "            [f.write(str(bin_)+\"\\n\") for bin_ in bins[key]]\n",
    "\n"
   ]
  },
  {
   "cell_type": "code",
   "execution_count": 2,
   "id": "030fe4ee-c31c-430a-acea-e1bf6880f288",
   "metadata": {},
   "outputs": [],
   "source": [
    "import os\n",
    "from pathlib import Path\n",
    "from multiprocessing import Pool\n",
    "from multiprocessing import cpu_count as n_cpu\n",
    "\n",
    "folder_out=os.path.join(\n",
    "    os.path.dirname(os.getcwd()),\n",
    "    \"04_ML_analysis\"\n",
    ")\n",
    "path_root = Path(folder_out)\n",
    "files=[root_file.as_posix() for root_file in path_root.glob('**/*.root')]\n",
    "\n",
    "with Pool(n_cpu()) as p:\n",
    "    list(p.map(convert_histos_to_txt,files))"
   ]
  }
 ],
 "metadata": {
  "kernelspec": {
   "display_name": "Python 3 (ipykernel)",
   "language": "python",
   "name": "python3"
  },
  "language_info": {
   "codemirror_mode": {
    "name": "ipython",
    "version": 3
   },
   "file_extension": ".py",
   "mimetype": "text/x-python",
   "name": "python",
   "nbconvert_exporter": "python",
   "pygments_lexer": "ipython3",
   "version": "3.9.4"
  }
 },
 "nbformat": 4,
 "nbformat_minor": 5
}
