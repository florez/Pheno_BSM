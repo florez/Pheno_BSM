{
 "cells": [
  {
   "cell_type": "code",
   "execution_count": null,
   "id": "c01db10d-2248-4ea2-8247-130d71e64467",
   "metadata": {},
   "outputs": [
    {
     "name": "stdout",
     "output_type": "stream",
     "text": [
      "Welcome to JupyROOT 6.22/06\n",
      "Tau_LQ_0250 imported!\n",
      "12 trees and 600000 events have been loaded from\n",
      "/Madgraph_Simulations/LeptoQuarks/tau_lq/tau_lq_m_250\n",
      "\n",
      "============================================================\n",
      "Tau_LQ_0500 imported!\n",
      "12 trees and 600000 events have been loaded from\n",
      "/Madgraph_Simulations/LeptoQuarks/tau_lq/tau_lq_m_500\n",
      "\n",
      "============================================================\n",
      "wz imported!\n",
      "200 trees and 9850000 events have been loaded from\n",
      "/Madgraph_Simulations/SM_Backgrounds/wz/\n",
      "\n",
      "============================================================\n",
      "w_jets imported!\n",
      "599 trees and 20942823 events have been loaded from\n",
      "/Madgraph_Simulations/SM_Backgrounds/w_jets/\n",
      "\n",
      "============================================================\n",
      "Tau_LQ_0250 done!\n",
      "time elapsed: 0.6877923132313623 hours.\n",
      "%%%%%%%%%%%%%%%%%%%%%%%%%%%%%%%%%%%%%%%%%%%%%%%%%%%%%%%%%%%%\n",
      "LQ_LQ_0250 imported!\n",
      "12 trees and 600000 events have been loaded from\n",
      "/Madgraph_Simulations/LeptoQuarks/lq_lq/lq_lq_m_250\n",
      "\n",
      "============================================================\n",
      "Tau_LQ_0500 done!\n",
      "time elapsed: 0.7223458323876063 hours.\n",
      "%%%%%%%%%%%%%%%%%%%%%%%%%%%%%%%%%%%%%%%%%%%%%%%%%%%%%%%%%%%%\n",
      "LQ_LQ_0500 imported!\n",
      "12 trees and 600000 events have been loaded from\n",
      "/Madgraph_Simulations/LeptoQuarks/lq_lq/lq_lq_m_500\n",
      "\n",
      "============================================================\n"
     ]
    }
   ],
   "source": [
    "import os\n",
    "import time\n",
    "from multiprocessing import Pool\n",
    "from event_selection import eventSelection\n",
    "from event_selection import Quiet\n",
    "from event_selection import get_efficiencies_df\n",
    "\n",
    "signal_list=[\"Tau_LQ_Merged_0250\",\"Tau_LQ_0250\",\"LQ_LQ_0250\"]\n",
    "signal_list+=[\"Tau_LQ_Merged_0500\",\"Tau_LQ_0500\",\"LQ_LQ_0500\"]\n",
    "signal_list+=[\"Tau_LQ_Merged_0750\",\"Tau_LQ_0750\",\"LQ_LQ_0750\"]\n",
    "signal_list+=[\"Tau_LQ_Merged_1000\",\"Tau_LQ_1000\",\"LQ_LQ_1000\"]\n",
    "signal_list+=[\"Tau_LQ_Merged_1250\",\"Tau_LQ_1250\",\"LQ_LQ_1250\"]\n",
    "signal_list+=[\"Tau_LQ_Merged_1500\",\"Tau_LQ_1500\",\"LQ_LQ_1500\"]\n",
    "signal_list+=[\"Tau_LQ_Merged_1750\",\"Tau_LQ_1750\",\"LQ_LQ_1750\"]\n",
    "signal_list+=[\"Tau_LQ_Merged_2000\",\"Tau_LQ_2000\",\"LQ_LQ_2000\"]\n",
    "signal_list+=[\"Tau_LQ_Merged_2250\",\"Tau_LQ_2250\",\"LQ_LQ_2250\"]\n",
    "signal_list+=[\"Tau_LQ_Merged_2500\",\"Tau_LQ_2500\",\"LQ_LQ_2500\"]\n",
    "\n",
    "top_list=[\"ttbar\",\"stop\"]\n",
    "v_jets_lists=[\"w_jets\",\"z_jets\"]\n",
    "diboson_list=[\"ww\",\"wz\",\"zz\"]\n",
    "\n",
    "signal_list=v_jets_lists+diboson_list+signal_list+top_list\n",
    "\n",
    "folder_out=os.path.join(\n",
    "    os.getcwd(),\n",
    "    \"Selected_Events\"\n",
    ")\n",
    "\n",
    "!rm -rf {folder_out}\n",
    "!mkdir -p {folder_out}\n",
    "\n",
    "def mapping(name):\n",
    "    return eventSelection(name,folder_out)\n",
    "\n",
    "with Quiet():\n",
    "    start_time = time.time()\n",
    "    with Pool(4) as p:  \n",
    "        goodEvents_dict=dict(p.map(mapping,signal_list))\n",
    "    efficiencies=get_efficiencies_df(goodEvents_dict,folder_out)\n",
    "    elapsed_seconds=(time.time() - start_time)\n",
    "    hours=int(elapsed_seconds/3600)\n",
    "    minutes=int((elapsed_seconds%3600)/60)\n",
    "    seconts=int((elapsed_seconds%3600)%60)\n",
    "    print(\"Done!\")\n",
    "    print(f\"Time elapsed: {hours}h {minutes}m {seconts}s\")"
   ]
  },
  {
   "cell_type": "code",
   "execution_count": null,
   "id": "f44b94bb-323a-4d41-86cc-5c1de9c76556",
   "metadata": {},
   "outputs": [],
   "source": [
    "for signal in goodEvents_dict.keys():\n",
    "    print(\"%\"*60)\n",
    "    print(signal)\n",
    "    print(goodEvents_dict[signal])"
   ]
  },
  {
   "cell_type": "code",
   "execution_count": null,
   "id": "3f0e7508-1f0f-49c7-a9de-98fbfcf9f324",
   "metadata": {},
   "outputs": [],
   "source": [
    "for selection in efficiencies.keys():\n",
    "    print(\"%\"*80)\n",
    "    print(selection)\n",
    "    print(efficiencies[selection])"
   ]
  }
 ],
 "metadata": {
  "kernelspec": {
   "display_name": "Python 3 (ipykernel)",
   "language": "python",
   "name": "python3"
  },
  "language_info": {
   "codemirror_mode": {
    "name": "ipython",
    "version": 3
   },
   "file_extension": ".py",
   "mimetype": "text/x-python",
   "name": "python",
   "nbconvert_exporter": "python",
   "pygments_lexer": "ipython3",
   "version": "3.9.4"
  }
 },
 "nbformat": 4,
 "nbformat_minor": 5
}
