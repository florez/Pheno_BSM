{
 "cells": [
  {
   "cell_type": "code",
   "execution_count": 5,
   "id": "ac916d7b",
   "metadata": {},
   "outputs": [],
   "source": [
    "import os\n",
    "import pandas as pd\n",
    "from delphes_reader.root_analysis import make_histograms"
   ]
  },
  {
   "cell_type": "code",
   "execution_count": 6,
   "id": "c3326dcd",
   "metadata": {},
   "outputs": [
    {
     "data": {
      "text/plain": [
       "['LQ_LQ_0250_hadronic.csv',\n",
       " 'LQ_LQ_0500_hadronic.csv',\n",
       " 'LQ_LQ_0750_hadronic.csv',\n",
       " 'LQ_LQ_1000_hadronic.csv',\n",
       " 'LQ_LQ_1250_hadronic.csv',\n",
       " 'LQ_LQ_1500_btag_hadronic.csv',\n",
       " 'LQ_LQ_1500_hadronic.csv',\n",
       " 'LQ_LQ_1750_hadronic.csv',\n",
       " 'LQ_LQ_2000_hadronic.csv',\n",
       " 'LQ_LQ_2250_hadronic.csv',\n",
       " 'LQ_LQ_2500_hadronic.csv',\n",
       " 'Tau_LQ_1500_btag_hadronic.csv',\n",
       " 'Tau_LQ_Merged_0250_hadronic.csv',\n",
       " 'Tau_LQ_Merged_0500_hadronic.csv',\n",
       " 'Tau_LQ_Merged_0750_hadronic.csv',\n",
       " 'Tau_LQ_Merged_1000_hadronic.csv',\n",
       " 'Tau_LQ_Merged_1250_hadronic.csv',\n",
       " 'Tau_LQ_Merged_1500_btag_hadronic.csv',\n",
       " 'Tau_LQ_Merged_1500_hadronic.csv',\n",
       " 'Tau_LQ_Merged_1750_hadronic.csv',\n",
       " 'Tau_LQ_Merged_2000_hadronic.csv',\n",
       " 'Tau_LQ_Merged_2250_hadronic.csv',\n",
       " 'Tau_LQ_Merged_2500_hadronic.csv',\n",
       " 'stop_hadronic.csv',\n",
       " 'ttbar_hadronic.csv',\n",
       " 'w_jets_hadronic.csv',\n",
       " 'ww_hadronic.csv',\n",
       " 'wz_hadronic.csv',\n",
       " 'z_jets_hadronic.csv',\n",
       " 'zz_hadronic.csv']"
      ]
     },
     "execution_count": 6,
     "metadata": {},
     "output_type": "execute_result"
    }
   ],
   "source": [
    "csv_files=[]\n",
    "folder_out=os.path.join(os.getcwd(),\"..\",\"b_tau_tau_2\")\n",
    "for file in next(os.walk(folder_out))[2]:\n",
    "    if \"hadronic.csv\" in file:\n",
    "        csv_files+=[file]\n",
    "    else:\n",
    "        pass \n",
    "csv_files.sort()\n",
    "csv_files"
   ]
  },
  {
   "cell_type": "code",
   "execution_count": 7,
   "id": "f48d6b26",
   "metadata": {},
   "outputs": [],
   "source": [
    "def read_csv(file):\n",
    "    path_to_file=os.path.join(folder_out,file)\n",
    "    df=pd.read_csv(path_to_file)\n",
    "    return file.removesuffix('_hadronic.csv'), df"
   ]
  },
  {
   "cell_type": "code",
   "execution_count": 8,
   "id": "8513c681",
   "metadata": {},
   "outputs": [
    {
     "name": "stdout",
     "output_type": "stream",
     "text": [
      "LQ_LQ_0250: 20575\n",
      "LQ_LQ_0500: 17387\n",
      "LQ_LQ_0750: 17148\n",
      "LQ_LQ_1000: 17352\n",
      "LQ_LQ_1250: 17271\n",
      "LQ_LQ_1500_btag: 16487\n",
      "LQ_LQ_1500: 17219\n",
      "LQ_LQ_1750: 16828\n",
      "LQ_LQ_2000: 16647\n",
      "LQ_LQ_2250: 16200\n",
      "LQ_LQ_2500: 15728\n",
      "Tau_LQ_1500_btag: 26901\n",
      "Tau_LQ_Merged_0250: 24997\n",
      "Tau_LQ_Merged_0500: 25562\n",
      "Tau_LQ_Merged_0750: 24958\n",
      "Tau_LQ_Merged_1000: 24373\n",
      "Tau_LQ_Merged_1250: 23326\n",
      "Tau_LQ_Merged_1500_btag: 28525\n",
      "Tau_LQ_Merged_1500: 22373\n",
      "Tau_LQ_Merged_1750: 21878\n",
      "Tau_LQ_Merged_2000: 20894\n",
      "Tau_LQ_Merged_2250: 20513\n",
      "Tau_LQ_Merged_2500: 19816\n",
      "stop: 640\n",
      "ttbar: 34457\n",
      "w_jets: 75\n",
      "ww: 519\n",
      "wz: 1147\n",
      "z_jets: 218\n",
      "zz: 3214\n"
     ]
    }
   ],
   "source": [
    "data_dict=dict(map(read_csv,csv_files))\n",
    "for signal in data_dict:\n",
    "    print( signal+\":\" , len(data_dict[signal]) )"
   ]
  },
  {
   "cell_type": "code",
   "execution_count": 10,
   "id": "d802489f",
   "metadata": {},
   "outputs": [
    {
     "name": "stdout",
     "output_type": "stream",
     "text": [
      "No Histogram Dictionary for  j^{bad}_{pt}\n"
     ]
    },
    {
     "data": {
      "text/plain": [
       "{'Pt_{b_{1}}': <cppyy.gbl.TH1F object at 0x559bb1bb5080>,\n",
       " '#eta_{b_{1}}': <cppyy.gbl.TH1F object at 0x559bb1a7aa30>,\n",
       " '#phi_{b_{1}}': <cppyy.gbl.TH1F object at 0x559bad36c0b0>,\n",
       " '#m_{b_{1}}': <cppyy.gbl.TH1F object at 0x559bab48f760>,\n",
       " '#Delta R_{b_{1}#tau_{1}}': <cppyy.gbl.TH1F object at 0x559bab351f40>,\n",
       " '#Delta#eta_{b_{1}#tau_{1}}': <cppyy.gbl.TH1F object at 0x559bab32ea60>,\n",
       " '#Delta#phi_{b_{1}#tau_{1}}': <cppyy.gbl.TH1F object at 0x559bb1bb8b60>,\n",
       " '#Delta pt_{b_{1}#tau_{1}}': <cppyy.gbl.TH1F object at 0x559bb0894630>,\n",
       " '#Delta #vec{pt}_{b_{1}#tau_{1}}': <cppyy.gbl.TH1F object at 0x559bb1d4f2f0>,\n",
       " '#Delta #vec{p}_{b_{1}#tau_{1}}': <cppyy.gbl.TH1F object at 0x559bb1d52d10>,\n",
       " '#Delta R_{b_{1}#tau_{2}}': <cppyy.gbl.TH1F object at 0x559bb0a2fdf0>,\n",
       " '#Delta#eta_{b_{1}#tau_{2}}': <cppyy.gbl.TH1F object at 0x559bb0a31d80>,\n",
       " '#Delta#phi_{b_{1}#tau_{2}}': <cppyy.gbl.TH1F object at 0x559bb1ccfa50>,\n",
       " '#Delta pt_{b_{1}#tau_{2}}': <cppyy.gbl.TH1F object at 0x559bb1bdb530>,\n",
       " '#Delta #vec{pt}_{b_{1}#tau_{2}}': <cppyy.gbl.TH1F object at 0x559bb1d53a90>,\n",
       " '#Delta #vec{p}_{b_{1}#tau_{2}}': <cppyy.gbl.TH1F object at 0x559bb1d47b00>,\n",
       " 'Pt_{#tau_{1}}': <cppyy.gbl.TH1F object at 0x559bb1ccdc20>,\n",
       " '#eta_{#tau_{1}}': <cppyy.gbl.TH1F object at 0x559bb0a2ed90>,\n",
       " '#phi_{#tau_{1}}': <cppyy.gbl.TH1F object at 0x559bb0a2f250>,\n",
       " '#m_{#tau_{1}}': <cppyy.gbl.TH1F object at 0x559bb0a31290>,\n",
       " '#Delta R_{#tau_{1}#tau_{2}}': <cppyy.gbl.TH1F object at 0x559bb0a31760>,\n",
       " '#Delta#eta_{#tau_{1}#tau_{2}}': <cppyy.gbl.TH1F object at 0x559bb1bb1930>,\n",
       " '#Delta#phi_{#tau_{1}#tau_{2}}': <cppyy.gbl.TH1F object at 0x559bb1bd5520>,\n",
       " '#Delta pt_{#tau_{1}#tau_{2}}': <cppyy.gbl.TH1F object at 0x559bb1bd5a20>,\n",
       " '#Delta #vec{pt}_{#tau_{1}#tau_{2}}': <cppyy.gbl.TH1F object at 0x559bb1d6b0c0>,\n",
       " '#Delta #vec{p}_{#tau_{1}#tau_{2}}': <cppyy.gbl.TH1F object at 0x559bb1d6b620>,\n",
       " 'Pt_{#tau_{2}}': <cppyy.gbl.TH1F object at 0x559bb1bd6ab0>,\n",
       " '#eta_{#tau_{2}}': <cppyy.gbl.TH1F object at 0x559bb1bd6f10>,\n",
       " '#phi_{#tau_{2}}': <cppyy.gbl.TH1F object at 0x559bb1bd7430>,\n",
       " '#m_{#tau_{2}}': <cppyy.gbl.TH1F object at 0x559bb1d4cd30>,\n",
       " 'MET': <cppyy.gbl.TH1F object at 0x559bb1d4d1d0>,\n",
       " '#phi_{MET}': <cppyy.gbl.TH1F object at 0x559bb1d4d670>}"
      ]
     },
     "execution_count": 10,
     "metadata": {},
     "output_type": "execute_result"
    }
   ],
   "source": [
    "make_histograms(data_dict[\"LQ_LQ_0500\"],1.0)"
   ]
  },
  {
   "cell_type": "code",
   "execution_count": 12,
   "id": "fbf29400",
   "metadata": {},
   "outputs": [
    {
     "name": "stdout",
     "output_type": "stream",
     "text": [
      "No Histogram Dictionary for  j^{bad}_{pt}\n"
     ]
    },
    {
     "name": "stderr",
     "output_type": "stream",
     "text": [
      "Warning in <TCanvas::Constructor>: Deleting canvas with same name: c1\n"
     ]
    },
    {
     "data": {
      "image/png": "[encoded data removed]",
      "text/plain": [
       "<IPython.core.display.Image object>"
      ]
     },
     "metadata": {},
     "output_type": "display_data"
    }
   ],
   "source": [
    "import ROOT\n",
    "c=ROOT.TCanvas(\"c1\",\"\",800,600)\n",
    "h=make_histograms(data_dict[\"LQ_LQ_0500\"],1.0)[\"#m_{#tau_{2}}\"]\n",
    "h.Draw(\"HIST\")\n",
    "c.Draw()"
   ]
  },
  {
   "cell_type": "code",
   "execution_count": 13,
   "id": "a07151da",
   "metadata": {},
   "outputs": [
    {
     "data": {
      "image/png": "[encoded data removed]",
      "text/plain": [
       "<IPython.core.display.Image object>"
      ]
     },
     "metadata": {},
     "output_type": "display_data"
    }
   ],
   "source": [
    "h=ROOT.TH1F(\n",
    "            \"j^{bad}_{pt}\",\";j^{bad}_{pt} (GeV); Events\",\n",
    "            100,0,200\n",
    "        )\n",
    "df=data_dict[\"stop\"]\n",
    "for value in df[\"j^{bad}_{pt}\"]:\n",
    "    h.Fill(value)\n",
    "h.Draw(\"HIST\")\n",
    "c.Draw()"
   ]
  },
  {
   "cell_type": "code",
   "execution_count": null,
   "id": "10fe1282",
   "metadata": {},
   "outputs": [],
   "source": []
  }
 ],
 "metadata": {
  "kernelspec": {
   "display_name": "Python 3 (ipykernel)",
   "language": "python",
   "name": "python3"
  },
  "language_info": {
   "codemirror_mode": {
    "name": "ipython",
    "version": 3
   },
   "file_extension": ".py",
   "mimetype": "text/x-python",
   "name": "python",
   "nbconvert_exporter": "python",
   "pygments_lexer": "ipython3",
   "version": "3.9.4"
  }
 },
 "nbformat": 4,
 "nbformat_minor": 5
}
