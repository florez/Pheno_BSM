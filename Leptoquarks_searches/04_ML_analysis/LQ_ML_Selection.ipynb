{
 "cells": [
  {
   "cell_type": "code",
   "execution_count": 1,
   "id": "4f74b301-055d-429d-ada2-7da67cd57d56",
   "metadata": {},
   "outputs": [
    {
     "name": "stdout",
     "output_type": "stream",
     "text": [
      "Welcome to JupyROOT 6.22/06\n"
     ]
    },
    {
     "name": "stderr",
     "output_type": "stream",
     "text": [
      "2022-09-28 09:13:01.143480: W tensorflow/stream_executor/platform/default/dso_loader.cc:64] Could not load dynamic library 'libcudart.so.11.0'; dlerror: libcudart.so.11.0: cannot open shared object file: No such file or directory; LD_LIBRARY_PATH: /Collider/ROOT/installROOT/lib::/Collider/ROOT/installROOT/lib/:/Collider/fastjet/lib:/Collider/fastjet/lib64:/Collider/LHAPDF/lib\n",
      "2022-09-28 09:13:01.143517: I tensorflow/stream_executor/cuda/cudart_stub.cc:29] Ignore above cudart dlerror if you do not have a GPU set up on your machine.\n"
     ]
    }
   ],
   "source": [
    "import os\n",
    "from ROOT import *\n",
    "from ML_Clasification import LQ_Log_Reg"
   ]
  },
  {
   "cell_type": "code",
   "execution_count": 2,
   "id": "13298370-f63e-4143-80cf-f44ca72cf96a",
   "metadata": {},
   "outputs": [],
   "source": [
    "folder_out=os.path.join(\n",
    "    os.path.dirname(os.getcwd()),\n",
    "    \"03_delphes_analysis\"\n",
    ")\n",
    "csv_files_path=os.path.join(folder_out,\"Selected_Events\")\n",
    "masses=[250,500,750,1000,1250,1500,1750,2000]\n",
    "gErrorIgnoreLevel=kError+1"
   ]
  },
  {
   "cell_type": "code",
   "execution_count": 3,
   "id": "e80cd396-b1a9-416c-8f3c-b6db568eaac8",
   "metadata": {},
   "outputs": [
    {
     "name": "stdout",
     "output_type": "stream",
     "text": [
      "/disco4/SIMULACIONES/Cristian/Pheno_BSM/Leptoquarks_searches/03_delphes_analysis/Selected_Events\n"
     ]
    },
    {
     "name": "stderr",
     "output_type": "stream",
     "text": [
      "Info in <TCanvas::Print>: png file /disco4/SIMULACIONES/Cristian/Pheno_BSM/Leptoquarks_searches/04_ML_analysis/MLQ_250/b_tau_tau_hadronic/LQ_LQ_0250.png has been created\n",
      "Info in <TCanvas::Print>: png file /disco4/SIMULACIONES/Cristian/Pheno_BSM/Leptoquarks_searches/04_ML_analysis/MLQ_250/b_tau_tau_hadronic/Tau_LQ_0250.png has been created\n",
      "Info in <TCanvas::Print>: png file /disco4/SIMULACIONES/Cristian/Pheno_BSM/Leptoquarks_searches/04_ML_analysis/MLQ_250/b_tau_tau_hadronic/ttbar.png has been created\n",
      "Info in <TCanvas::Print>: png file /disco4/SIMULACIONES/Cristian/Pheno_BSM/Leptoquarks_searches/04_ML_analysis/MLQ_250/b_tau_tau_hadronic/stop.png has been created\n",
      "Info in <TCanvas::Print>: png file /disco4/SIMULACIONES/Cristian/Pheno_BSM/Leptoquarks_searches/04_ML_analysis/MLQ_250/b_tau_tau_hadronic/z_jets.png has been created\n",
      "Info in <TCanvas::Print>: png file /disco4/SIMULACIONES/Cristian/Pheno_BSM/Leptoquarks_searches/04_ML_analysis/MLQ_250/b_tau_tau_hadronic/w_jets.png has been created\n",
      "Info in <TCanvas::Print>: png file /disco4/SIMULACIONES/Cristian/Pheno_BSM/Leptoquarks_searches/04_ML_analysis/MLQ_250/b_tau_tau_hadronic/ww.png has been created\n",
      "Info in <TCanvas::Print>: png file /disco4/SIMULACIONES/Cristian/Pheno_BSM/Leptoquarks_searches/04_ML_analysis/MLQ_250/b_tau_tau_hadronic/wz.png has been created\n",
      "Info in <TCanvas::Print>: png file /disco4/SIMULACIONES/Cristian/Pheno_BSM/Leptoquarks_searches/04_ML_analysis/MLQ_250/b_tau_tau_hadronic/zz.png has been created\n",
      "Info in <TCanvas::Print>: png file /disco4/SIMULACIONES/Cristian/Pheno_BSM/Leptoquarks_searches/04_ML_analysis/MLQ_500/b_tau_tau_hadronic/LQ_LQ_0500.png has been created\n",
      "Info in <TCanvas::Print>: png file /disco4/SIMULACIONES/Cristian/Pheno_BSM/Leptoquarks_searches/04_ML_analysis/MLQ_500/b_tau_tau_hadronic/Tau_LQ_0500.png has been created\n",
      "Warning in <TROOT::Append>: Replacing existing TH1: ttbar_b_tau_tau_hadronic (Potential memory leak).\n",
      "Info in <TCanvas::Print>: png file /disco4/SIMULACIONES/Cristian/Pheno_BSM/Leptoquarks_searches/04_ML_analysis/MLQ_500/b_tau_tau_hadronic/ttbar.png has been created\n",
      "Warning in <TROOT::Append>: Replacing existing TH1: stop_b_tau_tau_hadronic (Potential memory leak).\n",
      "Info in <TCanvas::Print>: png file /disco4/SIMULACIONES/Cristian/Pheno_BSM/Leptoquarks_searches/04_ML_analysis/MLQ_500/b_tau_tau_hadronic/stop.png has been created\n",
      "Warning in <TROOT::Append>: Replacing existing TH1: z_jets_b_tau_tau_hadronic (Potential memory leak).\n",
      "Info in <TCanvas::Print>: png file /disco4/SIMULACIONES/Cristian/Pheno_BSM/Leptoquarks_searches/04_ML_analysis/MLQ_500/b_tau_tau_hadronic/z_jets.png has been created\n",
      "Warning in <TROOT::Append>: Replacing existing TH1: w_jets_b_tau_tau_hadronic (Potential memory leak).\n",
      "Info in <TCanvas::Print>: png file /disco4/SIMULACIONES/Cristian/Pheno_BSM/Leptoquarks_searches/04_ML_analysis/MLQ_500/b_tau_tau_hadronic/w_jets.png has been created\n",
      "Warning in <TROOT::Append>: Replacing existing TH1: ww_b_tau_tau_hadronic (Potential memory leak).\n",
      "Info in <TCanvas::Print>: png file /disco4/SIMULACIONES/Cristian/Pheno_BSM/Leptoquarks_searches/04_ML_analysis/MLQ_500/b_tau_tau_hadronic/ww.png has been created\n",
      "Warning in <TROOT::Append>: Replacing existing TH1: wz_b_tau_tau_hadronic (Potential memory leak).\n",
      "Info in <TCanvas::Print>: png file /disco4/SIMULACIONES/Cristian/Pheno_BSM/Leptoquarks_searches/04_ML_analysis/MLQ_500/b_tau_tau_hadronic/wz.png has been created\n",
      "Warning in <TROOT::Append>: Replacing existing TH1: zz_b_tau_tau_hadronic (Potential memory leak).\n",
      "Info in <TCanvas::Print>: png file /disco4/SIMULACIONES/Cristian/Pheno_BSM/Leptoquarks_searches/04_ML_analysis/MLQ_500/b_tau_tau_hadronic/zz.png has been created\n",
      "Info in <TCanvas::Print>: png file /disco4/SIMULACIONES/Cristian/Pheno_BSM/Leptoquarks_searches/04_ML_analysis/MLQ_750/b_tau_tau_hadronic/LQ_LQ_0750.png has been created\n",
      "Info in <TCanvas::Print>: png file /disco4/SIMULACIONES/Cristian/Pheno_BSM/Leptoquarks_searches/04_ML_analysis/MLQ_750/b_tau_tau_hadronic/Tau_LQ_0750.png has been created\n",
      "Warning in <TROOT::Append>: Replacing existing TH1: ttbar_b_tau_tau_hadronic (Potential memory leak).\n",
      "Info in <TCanvas::Print>: png file /disco4/SIMULACIONES/Cristian/Pheno_BSM/Leptoquarks_searches/04_ML_analysis/MLQ_750/b_tau_tau_hadronic/ttbar.png has been created\n",
      "Warning in <TROOT::Append>: Replacing existing TH1: stop_b_tau_tau_hadronic (Potential memory leak).\n",
      "Info in <TCanvas::Print>: png file /disco4/SIMULACIONES/Cristian/Pheno_BSM/Leptoquarks_searches/04_ML_analysis/MLQ_750/b_tau_tau_hadronic/stop.png has been created\n",
      "Warning in <TROOT::Append>: Replacing existing TH1: z_jets_b_tau_tau_hadronic (Potential memory leak).\n",
      "Info in <TCanvas::Print>: png file /disco4/SIMULACIONES/Cristian/Pheno_BSM/Leptoquarks_searches/04_ML_analysis/MLQ_750/b_tau_tau_hadronic/z_jets.png has been created\n",
      "Warning in <TROOT::Append>: Replacing existing TH1: w_jets_b_tau_tau_hadronic (Potential memory leak).\n",
      "Info in <TCanvas::Print>: png file /disco4/SIMULACIONES/Cristian/Pheno_BSM/Leptoquarks_searches/04_ML_analysis/MLQ_750/b_tau_tau_hadronic/w_jets.png has been created\n",
      "Warning in <TROOT::Append>: Replacing existing TH1: ww_b_tau_tau_hadronic (Potential memory leak).\n",
      "Info in <TCanvas::Print>: png file /disco4/SIMULACIONES/Cristian/Pheno_BSM/Leptoquarks_searches/04_ML_analysis/MLQ_750/b_tau_tau_hadronic/ww.png has been created\n",
      "Warning in <TROOT::Append>: Replacing existing TH1: wz_b_tau_tau_hadronic (Potential memory leak).\n",
      "Info in <TCanvas::Print>: png file /disco4/SIMULACIONES/Cristian/Pheno_BSM/Leptoquarks_searches/04_ML_analysis/MLQ_750/b_tau_tau_hadronic/wz.png has been created\n",
      "Warning in <TROOT::Append>: Replacing existing TH1: zz_b_tau_tau_hadronic (Potential memory leak).\n",
      "Info in <TCanvas::Print>: png file /disco4/SIMULACIONES/Cristian/Pheno_BSM/Leptoquarks_searches/04_ML_analysis/MLQ_750/b_tau_tau_hadronic/zz.png has been created\n",
      "Info in <TCanvas::Print>: png file /disco4/SIMULACIONES/Cristian/Pheno_BSM/Leptoquarks_searches/04_ML_analysis/MLQ_1000/b_tau_tau_hadronic/LQ_LQ_1000.png has been created\n",
      "Info in <TCanvas::Print>: png file /disco4/SIMULACIONES/Cristian/Pheno_BSM/Leptoquarks_searches/04_ML_analysis/MLQ_1000/b_tau_tau_hadronic/Tau_LQ_1000.png has been created\n",
      "Warning in <TROOT::Append>: Replacing existing TH1: ttbar_b_tau_tau_hadronic (Potential memory leak).\n",
      "Info in <TCanvas::Print>: png file /disco4/SIMULACIONES/Cristian/Pheno_BSM/Leptoquarks_searches/04_ML_analysis/MLQ_1000/b_tau_tau_hadronic/ttbar.png has been created\n",
      "Warning in <TROOT::Append>: Replacing existing TH1: stop_b_tau_tau_hadronic (Potential memory leak).\n",
      "Info in <TCanvas::Print>: png file /disco4/SIMULACIONES/Cristian/Pheno_BSM/Leptoquarks_searches/04_ML_analysis/MLQ_1000/b_tau_tau_hadronic/stop.png has been created\n",
      "Warning in <TROOT::Append>: Replacing existing TH1: z_jets_b_tau_tau_hadronic (Potential memory leak).\n",
      "Info in <TCanvas::Print>: png file /disco4/SIMULACIONES/Cristian/Pheno_BSM/Leptoquarks_searches/04_ML_analysis/MLQ_1000/b_tau_tau_hadronic/z_jets.png has been created\n",
      "Warning in <TROOT::Append>: Replacing existing TH1: w_jets_b_tau_tau_hadronic (Potential memory leak).\n",
      "Info in <TCanvas::Print>: png file /disco4/SIMULACIONES/Cristian/Pheno_BSM/Leptoquarks_searches/04_ML_analysis/MLQ_1000/b_tau_tau_hadronic/w_jets.png has been created\n",
      "Warning in <TROOT::Append>: Replacing existing TH1: ww_b_tau_tau_hadronic (Potential memory leak).\n",
      "Info in <TCanvas::Print>: png file /disco4/SIMULACIONES/Cristian/Pheno_BSM/Leptoquarks_searches/04_ML_analysis/MLQ_1000/b_tau_tau_hadronic/ww.png has been created\n",
      "Warning in <TROOT::Append>: Replacing existing TH1: wz_b_tau_tau_hadronic (Potential memory leak).\n",
      "Info in <TCanvas::Print>: png file /disco4/SIMULACIONES/Cristian/Pheno_BSM/Leptoquarks_searches/04_ML_analysis/MLQ_1000/b_tau_tau_hadronic/wz.png has been created\n",
      "Warning in <TROOT::Append>: Replacing existing TH1: zz_b_tau_tau_hadronic (Potential memory leak).\n",
      "Info in <TCanvas::Print>: png file /disco4/SIMULACIONES/Cristian/Pheno_BSM/Leptoquarks_searches/04_ML_analysis/MLQ_1000/b_tau_tau_hadronic/zz.png has been created\n",
      "Info in <TCanvas::Print>: png file /disco4/SIMULACIONES/Cristian/Pheno_BSM/Leptoquarks_searches/04_ML_analysis/MLQ_1250/b_tau_tau_hadronic/LQ_LQ_1250.png has been created\n",
      "Info in <TCanvas::Print>: png file /disco4/SIMULACIONES/Cristian/Pheno_BSM/Leptoquarks_searches/04_ML_analysis/MLQ_1250/b_tau_tau_hadronic/Tau_LQ_1250.png has been created\n",
      "Warning in <TROOT::Append>: Replacing existing TH1: ttbar_b_tau_tau_hadronic (Potential memory leak).\n",
      "Info in <TCanvas::Print>: png file /disco4/SIMULACIONES/Cristian/Pheno_BSM/Leptoquarks_searches/04_ML_analysis/MLQ_1250/b_tau_tau_hadronic/ttbar.png has been created\n",
      "Warning in <TROOT::Append>: Replacing existing TH1: stop_b_tau_tau_hadronic (Potential memory leak).\n",
      "Info in <TCanvas::Print>: png file /disco4/SIMULACIONES/Cristian/Pheno_BSM/Leptoquarks_searches/04_ML_analysis/MLQ_1250/b_tau_tau_hadronic/stop.png has been created\n",
      "Warning in <TROOT::Append>: Replacing existing TH1: z_jets_b_tau_tau_hadronic (Potential memory leak).\n",
      "Info in <TCanvas::Print>: png file /disco4/SIMULACIONES/Cristian/Pheno_BSM/Leptoquarks_searches/04_ML_analysis/MLQ_1250/b_tau_tau_hadronic/z_jets.png has been created\n",
      "Warning in <TROOT::Append>: Replacing existing TH1: w_jets_b_tau_tau_hadronic (Potential memory leak).\n",
      "Info in <TCanvas::Print>: png file /disco4/SIMULACIONES/Cristian/Pheno_BSM/Leptoquarks_searches/04_ML_analysis/MLQ_1250/b_tau_tau_hadronic/w_jets.png has been created\n",
      "Warning in <TROOT::Append>: Replacing existing TH1: ww_b_tau_tau_hadronic (Potential memory leak).\n",
      "Info in <TCanvas::Print>: png file /disco4/SIMULACIONES/Cristian/Pheno_BSM/Leptoquarks_searches/04_ML_analysis/MLQ_1250/b_tau_tau_hadronic/ww.png has been created\n",
      "Warning in <TROOT::Append>: Replacing existing TH1: wz_b_tau_tau_hadronic (Potential memory leak).\n",
      "Info in <TCanvas::Print>: png file /disco4/SIMULACIONES/Cristian/Pheno_BSM/Leptoquarks_searches/04_ML_analysis/MLQ_1250/b_tau_tau_hadronic/wz.png has been created\n",
      "Warning in <TROOT::Append>: Replacing existing TH1: zz_b_tau_tau_hadronic (Potential memory leak).\n",
      "Info in <TCanvas::Print>: png file /disco4/SIMULACIONES/Cristian/Pheno_BSM/Leptoquarks_searches/04_ML_analysis/MLQ_1250/b_tau_tau_hadronic/zz.png has been created\n",
      "Info in <TCanvas::Print>: png file /disco4/SIMULACIONES/Cristian/Pheno_BSM/Leptoquarks_searches/04_ML_analysis/MLQ_1500/b_tau_tau_hadronic/LQ_LQ_1500.png has been created\n",
      "Info in <TCanvas::Print>: png file /disco4/SIMULACIONES/Cristian/Pheno_BSM/Leptoquarks_searches/04_ML_analysis/MLQ_1500/b_tau_tau_hadronic/Tau_LQ_1500.png has been created\n",
      "Warning in <TROOT::Append>: Replacing existing TH1: ttbar_b_tau_tau_hadronic (Potential memory leak).\n",
      "Info in <TCanvas::Print>: png file /disco4/SIMULACIONES/Cristian/Pheno_BSM/Leptoquarks_searches/04_ML_analysis/MLQ_1500/b_tau_tau_hadronic/ttbar.png has been created\n",
      "Warning in <TROOT::Append>: Replacing existing TH1: stop_b_tau_tau_hadronic (Potential memory leak).\n",
      "Info in <TCanvas::Print>: png file /disco4/SIMULACIONES/Cristian/Pheno_BSM/Leptoquarks_searches/04_ML_analysis/MLQ_1500/b_tau_tau_hadronic/stop.png has been created\n",
      "Warning in <TROOT::Append>: Replacing existing TH1: z_jets_b_tau_tau_hadronic (Potential memory leak).\n",
      "Info in <TCanvas::Print>: png file /disco4/SIMULACIONES/Cristian/Pheno_BSM/Leptoquarks_searches/04_ML_analysis/MLQ_1500/b_tau_tau_hadronic/z_jets.png has been created\n",
      "Warning in <TROOT::Append>: Replacing existing TH1: w_jets_b_tau_tau_hadronic (Potential memory leak).\n",
      "Info in <TCanvas::Print>: png file /disco4/SIMULACIONES/Cristian/Pheno_BSM/Leptoquarks_searches/04_ML_analysis/MLQ_1500/b_tau_tau_hadronic/w_jets.png has been created\n",
      "Warning in <TROOT::Append>: Replacing existing TH1: ww_b_tau_tau_hadronic (Potential memory leak).\n",
      "Info in <TCanvas::Print>: png file /disco4/SIMULACIONES/Cristian/Pheno_BSM/Leptoquarks_searches/04_ML_analysis/MLQ_1500/b_tau_tau_hadronic/ww.png has been created\n",
      "Warning in <TROOT::Append>: Replacing existing TH1: wz_b_tau_tau_hadronic (Potential memory leak).\n",
      "Info in <TCanvas::Print>: png file /disco4/SIMULACIONES/Cristian/Pheno_BSM/Leptoquarks_searches/04_ML_analysis/MLQ_1500/b_tau_tau_hadronic/wz.png has been created\n",
      "Warning in <TROOT::Append>: Replacing existing TH1: zz_b_tau_tau_hadronic (Potential memory leak).\n",
      "Info in <TCanvas::Print>: png file /disco4/SIMULACIONES/Cristian/Pheno_BSM/Leptoquarks_searches/04_ML_analysis/MLQ_1500/b_tau_tau_hadronic/zz.png has been created\n",
      "Info in <TCanvas::Print>: png file /disco4/SIMULACIONES/Cristian/Pheno_BSM/Leptoquarks_searches/04_ML_analysis/MLQ_1750/b_tau_tau_hadronic/LQ_LQ_1750.png has been created\n",
      "Info in <TCanvas::Print>: png file /disco4/SIMULACIONES/Cristian/Pheno_BSM/Leptoquarks_searches/04_ML_analysis/MLQ_1750/b_tau_tau_hadronic/Tau_LQ_1750.png has been created\n",
      "Warning in <TROOT::Append>: Replacing existing TH1: ttbar_b_tau_tau_hadronic (Potential memory leak).\n",
      "Info in <TCanvas::Print>: png file /disco4/SIMULACIONES/Cristian/Pheno_BSM/Leptoquarks_searches/04_ML_analysis/MLQ_1750/b_tau_tau_hadronic/ttbar.png has been created\n",
      "Warning in <TROOT::Append>: Replacing existing TH1: stop_b_tau_tau_hadronic (Potential memory leak).\n",
      "Info in <TCanvas::Print>: png file /disco4/SIMULACIONES/Cristian/Pheno_BSM/Leptoquarks_searches/04_ML_analysis/MLQ_1750/b_tau_tau_hadronic/stop.png has been created\n",
      "Warning in <TROOT::Append>: Replacing existing TH1: z_jets_b_tau_tau_hadronic (Potential memory leak).\n",
      "Info in <TCanvas::Print>: png file /disco4/SIMULACIONES/Cristian/Pheno_BSM/Leptoquarks_searches/04_ML_analysis/MLQ_1750/b_tau_tau_hadronic/z_jets.png has been created\n",
      "Warning in <TROOT::Append>: Replacing existing TH1: w_jets_b_tau_tau_hadronic (Potential memory leak).\n",
      "Info in <TCanvas::Print>: png file /disco4/SIMULACIONES/Cristian/Pheno_BSM/Leptoquarks_searches/04_ML_analysis/MLQ_1750/b_tau_tau_hadronic/w_jets.png has been created\n",
      "Warning in <TROOT::Append>: Replacing existing TH1: ww_b_tau_tau_hadronic (Potential memory leak).\n",
      "Info in <TCanvas::Print>: png file /disco4/SIMULACIONES/Cristian/Pheno_BSM/Leptoquarks_searches/04_ML_analysis/MLQ_1750/b_tau_tau_hadronic/ww.png has been created\n",
      "Warning in <TROOT::Append>: Replacing existing TH1: wz_b_tau_tau_hadronic (Potential memory leak).\n",
      "Info in <TCanvas::Print>: png file /disco4/SIMULACIONES/Cristian/Pheno_BSM/Leptoquarks_searches/04_ML_analysis/MLQ_1750/b_tau_tau_hadronic/wz.png has been created\n",
      "Warning in <TROOT::Append>: Replacing existing TH1: zz_b_tau_tau_hadronic (Potential memory leak).\n",
      "Info in <TCanvas::Print>: png file /disco4/SIMULACIONES/Cristian/Pheno_BSM/Leptoquarks_searches/04_ML_analysis/MLQ_1750/b_tau_tau_hadronic/zz.png has been created\n",
      "Info in <TCanvas::Print>: png file /disco4/SIMULACIONES/Cristian/Pheno_BSM/Leptoquarks_searches/04_ML_analysis/MLQ_2000/b_tau_tau_hadronic/LQ_LQ_2000.png has been created\n",
      "Info in <TCanvas::Print>: png file /disco4/SIMULACIONES/Cristian/Pheno_BSM/Leptoquarks_searches/04_ML_analysis/MLQ_2000/b_tau_tau_hadronic/Tau_LQ_2000.png has been created\n",
      "Warning in <TROOT::Append>: Replacing existing TH1: ttbar_b_tau_tau_hadronic (Potential memory leak).\n",
      "Info in <TCanvas::Print>: png file /disco4/SIMULACIONES/Cristian/Pheno_BSM/Leptoquarks_searches/04_ML_analysis/MLQ_2000/b_tau_tau_hadronic/ttbar.png has been created\n",
      "Warning in <TROOT::Append>: Replacing existing TH1: stop_b_tau_tau_hadronic (Potential memory leak).\n",
      "Info in <TCanvas::Print>: png file /disco4/SIMULACIONES/Cristian/Pheno_BSM/Leptoquarks_searches/04_ML_analysis/MLQ_2000/b_tau_tau_hadronic/stop.png has been created\n",
      "Warning in <TROOT::Append>: Replacing existing TH1: z_jets_b_tau_tau_hadronic (Potential memory leak).\n",
      "Info in <TCanvas::Print>: png file /disco4/SIMULACIONES/Cristian/Pheno_BSM/Leptoquarks_searches/04_ML_analysis/MLQ_2000/b_tau_tau_hadronic/z_jets.png has been created\n",
      "Warning in <TROOT::Append>: Replacing existing TH1: w_jets_b_tau_tau_hadronic (Potential memory leak).\n",
      "Info in <TCanvas::Print>: png file /disco4/SIMULACIONES/Cristian/Pheno_BSM/Leptoquarks_searches/04_ML_analysis/MLQ_2000/b_tau_tau_hadronic/w_jets.png has been created\n",
      "Warning in <TROOT::Append>: Replacing existing TH1: ww_b_tau_tau_hadronic (Potential memory leak).\n",
      "Info in <TCanvas::Print>: png file /disco4/SIMULACIONES/Cristian/Pheno_BSM/Leptoquarks_searches/04_ML_analysis/MLQ_2000/b_tau_tau_hadronic/ww.png has been created\n",
      "Warning in <TROOT::Append>: Replacing existing TH1: wz_b_tau_tau_hadronic (Potential memory leak).\n",
      "Info in <TCanvas::Print>: png file /disco4/SIMULACIONES/Cristian/Pheno_BSM/Leptoquarks_searches/04_ML_analysis/MLQ_2000/b_tau_tau_hadronic/wz.png has been created\n",
      "Warning in <TROOT::Append>: Replacing existing TH1: zz_b_tau_tau_hadronic (Potential memory leak).\n",
      "Info in <TCanvas::Print>: png file /disco4/SIMULACIONES/Cristian/Pheno_BSM/Leptoquarks_searches/04_ML_analysis/MLQ_2000/b_tau_tau_hadronic/zz.png has been created\n"
     ]
    }
   ],
   "source": [
    "channel=\"b_tau_tau_hadronic\"\n",
    "for mass in masses:\n",
    "    modelo=LQ_Log_Reg(mass,[channel],csv_files_path)\n",
    "    images_folder=os.path.join(f\"MLQ_{mass}\",f\"{channel}\")\n",
    "    os.system(f\"rm -rf '{images_folder}'\")\n",
    "    os.system(f\"mkdir -p '{images_folder}'\")\n",
    "    histograms=modelo.get_discriminator_histograms(images_folder)\n",
    "print(csv_files_path)"
   ]
  },
  {
   "cell_type": "code",
   "execution_count": 4,
   "id": "31ee7cc6-dbd8-4093-acdc-e89f6912655a",
   "metadata": {},
   "outputs": [
    {
     "name": "stdout",
     "output_type": "stream",
     "text": [
      "/disco4/SIMULACIONES/Cristian/Pheno_BSM/Leptoquarks_searches/03_delphes_analysis/Selected_Events\n"
     ]
    },
    {
     "name": "stderr",
     "output_type": "stream",
     "text": [
      "Info in <TCanvas::Print>: png file /disco4/SIMULACIONES/Cristian/Pheno_BSM/Leptoquarks_searches/04_ML_analysis/MLQ_250/b_b_tau_tau_hadronic/LQ_LQ_0250.png has been created\n",
      "Info in <TCanvas::Print>: png file /disco4/SIMULACIONES/Cristian/Pheno_BSM/Leptoquarks_searches/04_ML_analysis/MLQ_250/b_b_tau_tau_hadronic/Tau_LQ_0250.png has been created\n",
      "Info in <TCanvas::Print>: png file /disco4/SIMULACIONES/Cristian/Pheno_BSM/Leptoquarks_searches/04_ML_analysis/MLQ_250/b_b_tau_tau_hadronic/ttbar.png has been created\n",
      "Info in <TCanvas::Print>: png file /disco4/SIMULACIONES/Cristian/Pheno_BSM/Leptoquarks_searches/04_ML_analysis/MLQ_250/b_b_tau_tau_hadronic/stop.png has been created\n",
      "Info in <TCanvas::Print>: png file /disco4/SIMULACIONES/Cristian/Pheno_BSM/Leptoquarks_searches/04_ML_analysis/MLQ_250/b_b_tau_tau_hadronic/z_jets.png has been created\n",
      "Info in <TCanvas::Print>: png file /disco4/SIMULACIONES/Cristian/Pheno_BSM/Leptoquarks_searches/04_ML_analysis/MLQ_250/b_b_tau_tau_hadronic/w_jets.png has been created\n",
      "Info in <TCanvas::Print>: png file /disco4/SIMULACIONES/Cristian/Pheno_BSM/Leptoquarks_searches/04_ML_analysis/MLQ_250/b_b_tau_tau_hadronic/ww.png has been created\n",
      "Info in <TCanvas::Print>: png file /disco4/SIMULACIONES/Cristian/Pheno_BSM/Leptoquarks_searches/04_ML_analysis/MLQ_250/b_b_tau_tau_hadronic/wz.png has been created\n",
      "Info in <TCanvas::Print>: png file /disco4/SIMULACIONES/Cristian/Pheno_BSM/Leptoquarks_searches/04_ML_analysis/MLQ_250/b_b_tau_tau_hadronic/zz.png has been created\n",
      "Info in <TCanvas::Print>: png file /disco4/SIMULACIONES/Cristian/Pheno_BSM/Leptoquarks_searches/04_ML_analysis/MLQ_500/b_b_tau_tau_hadronic/LQ_LQ_0500.png has been created\n",
      "Info in <TCanvas::Print>: png file /disco4/SIMULACIONES/Cristian/Pheno_BSM/Leptoquarks_searches/04_ML_analysis/MLQ_500/b_b_tau_tau_hadronic/Tau_LQ_0500.png has been created\n",
      "Warning in <TROOT::Append>: Replacing existing TH1: ttbar_b_b_tau_tau_hadronic (Potential memory leak).\n",
      "Info in <TCanvas::Print>: png file /disco4/SIMULACIONES/Cristian/Pheno_BSM/Leptoquarks_searches/04_ML_analysis/MLQ_500/b_b_tau_tau_hadronic/ttbar.png has been created\n",
      "Warning in <TROOT::Append>: Replacing existing TH1: stop_b_b_tau_tau_hadronic (Potential memory leak).\n",
      "Info in <TCanvas::Print>: png file /disco4/SIMULACIONES/Cristian/Pheno_BSM/Leptoquarks_searches/04_ML_analysis/MLQ_500/b_b_tau_tau_hadronic/stop.png has been created\n",
      "Warning in <TROOT::Append>: Replacing existing TH1: z_jets_b_b_tau_tau_hadronic (Potential memory leak).\n",
      "Info in <TCanvas::Print>: png file /disco4/SIMULACIONES/Cristian/Pheno_BSM/Leptoquarks_searches/04_ML_analysis/MLQ_500/b_b_tau_tau_hadronic/z_jets.png has been created\n",
      "Warning in <TROOT::Append>: Replacing existing TH1: w_jets_b_b_tau_tau_hadronic (Potential memory leak).\n",
      "Info in <TCanvas::Print>: png file /disco4/SIMULACIONES/Cristian/Pheno_BSM/Leptoquarks_searches/04_ML_analysis/MLQ_500/b_b_tau_tau_hadronic/w_jets.png has been created\n",
      "Warning in <TROOT::Append>: Replacing existing TH1: ww_b_b_tau_tau_hadronic (Potential memory leak).\n",
      "Info in <TCanvas::Print>: png file /disco4/SIMULACIONES/Cristian/Pheno_BSM/Leptoquarks_searches/04_ML_analysis/MLQ_500/b_b_tau_tau_hadronic/ww.png has been created\n",
      "Warning in <TROOT::Append>: Replacing existing TH1: wz_b_b_tau_tau_hadronic (Potential memory leak).\n",
      "Info in <TCanvas::Print>: png file /disco4/SIMULACIONES/Cristian/Pheno_BSM/Leptoquarks_searches/04_ML_analysis/MLQ_500/b_b_tau_tau_hadronic/wz.png has been created\n",
      "Warning in <TROOT::Append>: Replacing existing TH1: zz_b_b_tau_tau_hadronic (Potential memory leak).\n",
      "Info in <TCanvas::Print>: png file /disco4/SIMULACIONES/Cristian/Pheno_BSM/Leptoquarks_searches/04_ML_analysis/MLQ_500/b_b_tau_tau_hadronic/zz.png has been created\n",
      "Info in <TCanvas::Print>: png file /disco4/SIMULACIONES/Cristian/Pheno_BSM/Leptoquarks_searches/04_ML_analysis/MLQ_750/b_b_tau_tau_hadronic/LQ_LQ_0750.png has been created\n",
      "Info in <TCanvas::Print>: png file /disco4/SIMULACIONES/Cristian/Pheno_BSM/Leptoquarks_searches/04_ML_analysis/MLQ_750/b_b_tau_tau_hadronic/Tau_LQ_0750.png has been created\n",
      "Warning in <TROOT::Append>: Replacing existing TH1: ttbar_b_b_tau_tau_hadronic (Potential memory leak).\n",
      "Info in <TCanvas::Print>: png file /disco4/SIMULACIONES/Cristian/Pheno_BSM/Leptoquarks_searches/04_ML_analysis/MLQ_750/b_b_tau_tau_hadronic/ttbar.png has been created\n",
      "Warning in <TROOT::Append>: Replacing existing TH1: stop_b_b_tau_tau_hadronic (Potential memory leak).\n",
      "Info in <TCanvas::Print>: png file /disco4/SIMULACIONES/Cristian/Pheno_BSM/Leptoquarks_searches/04_ML_analysis/MLQ_750/b_b_tau_tau_hadronic/stop.png has been created\n",
      "Warning in <TROOT::Append>: Replacing existing TH1: z_jets_b_b_tau_tau_hadronic (Potential memory leak).\n",
      "Info in <TCanvas::Print>: png file /disco4/SIMULACIONES/Cristian/Pheno_BSM/Leptoquarks_searches/04_ML_analysis/MLQ_750/b_b_tau_tau_hadronic/z_jets.png has been created\n",
      "Warning in <TROOT::Append>: Replacing existing TH1: w_jets_b_b_tau_tau_hadronic (Potential memory leak).\n",
      "Info in <TCanvas::Print>: png file /disco4/SIMULACIONES/Cristian/Pheno_BSM/Leptoquarks_searches/04_ML_analysis/MLQ_750/b_b_tau_tau_hadronic/w_jets.png has been created\n",
      "Warning in <TROOT::Append>: Replacing existing TH1: ww_b_b_tau_tau_hadronic (Potential memory leak).\n",
      "Info in <TCanvas::Print>: png file /disco4/SIMULACIONES/Cristian/Pheno_BSM/Leptoquarks_searches/04_ML_analysis/MLQ_750/b_b_tau_tau_hadronic/ww.png has been created\n",
      "Warning in <TROOT::Append>: Replacing existing TH1: wz_b_b_tau_tau_hadronic (Potential memory leak).\n",
      "Info in <TCanvas::Print>: png file /disco4/SIMULACIONES/Cristian/Pheno_BSM/Leptoquarks_searches/04_ML_analysis/MLQ_750/b_b_tau_tau_hadronic/wz.png has been created\n",
      "Warning in <TROOT::Append>: Replacing existing TH1: zz_b_b_tau_tau_hadronic (Potential memory leak).\n",
      "Info in <TCanvas::Print>: png file /disco4/SIMULACIONES/Cristian/Pheno_BSM/Leptoquarks_searches/04_ML_analysis/MLQ_750/b_b_tau_tau_hadronic/zz.png has been created\n",
      "Info in <TCanvas::Print>: png file /disco4/SIMULACIONES/Cristian/Pheno_BSM/Leptoquarks_searches/04_ML_analysis/MLQ_1000/b_b_tau_tau_hadronic/LQ_LQ_1000.png has been created\n",
      "Info in <TCanvas::Print>: png file /disco4/SIMULACIONES/Cristian/Pheno_BSM/Leptoquarks_searches/04_ML_analysis/MLQ_1000/b_b_tau_tau_hadronic/Tau_LQ_1000.png has been created\n",
      "Warning in <TROOT::Append>: Replacing existing TH1: ttbar_b_b_tau_tau_hadronic (Potential memory leak).\n",
      "Info in <TCanvas::Print>: png file /disco4/SIMULACIONES/Cristian/Pheno_BSM/Leptoquarks_searches/04_ML_analysis/MLQ_1000/b_b_tau_tau_hadronic/ttbar.png has been created\n",
      "Warning in <TROOT::Append>: Replacing existing TH1: stop_b_b_tau_tau_hadronic (Potential memory leak).\n",
      "Info in <TCanvas::Print>: png file /disco4/SIMULACIONES/Cristian/Pheno_BSM/Leptoquarks_searches/04_ML_analysis/MLQ_1000/b_b_tau_tau_hadronic/stop.png has been created\n",
      "Warning in <TROOT::Append>: Replacing existing TH1: z_jets_b_b_tau_tau_hadronic (Potential memory leak).\n",
      "Info in <TCanvas::Print>: png file /disco4/SIMULACIONES/Cristian/Pheno_BSM/Leptoquarks_searches/04_ML_analysis/MLQ_1000/b_b_tau_tau_hadronic/z_jets.png has been created\n",
      "Warning in <TROOT::Append>: Replacing existing TH1: w_jets_b_b_tau_tau_hadronic (Potential memory leak).\n",
      "Info in <TCanvas::Print>: png file /disco4/SIMULACIONES/Cristian/Pheno_BSM/Leptoquarks_searches/04_ML_analysis/MLQ_1000/b_b_tau_tau_hadronic/w_jets.png has been created\n",
      "Warning in <TROOT::Append>: Replacing existing TH1: ww_b_b_tau_tau_hadronic (Potential memory leak).\n",
      "Info in <TCanvas::Print>: png file /disco4/SIMULACIONES/Cristian/Pheno_BSM/Leptoquarks_searches/04_ML_analysis/MLQ_1000/b_b_tau_tau_hadronic/ww.png has been created\n",
      "Warning in <TROOT::Append>: Replacing existing TH1: wz_b_b_tau_tau_hadronic (Potential memory leak).\n",
      "Info in <TCanvas::Print>: png file /disco4/SIMULACIONES/Cristian/Pheno_BSM/Leptoquarks_searches/04_ML_analysis/MLQ_1000/b_b_tau_tau_hadronic/wz.png has been created\n",
      "Warning in <TROOT::Append>: Replacing existing TH1: zz_b_b_tau_tau_hadronic (Potential memory leak).\n",
      "Info in <TCanvas::Print>: png file /disco4/SIMULACIONES/Cristian/Pheno_BSM/Leptoquarks_searches/04_ML_analysis/MLQ_1000/b_b_tau_tau_hadronic/zz.png has been created\n",
      "Info in <TCanvas::Print>: png file /disco4/SIMULACIONES/Cristian/Pheno_BSM/Leptoquarks_searches/04_ML_analysis/MLQ_1250/b_b_tau_tau_hadronic/LQ_LQ_1250.png has been created\n",
      "Info in <TCanvas::Print>: png file /disco4/SIMULACIONES/Cristian/Pheno_BSM/Leptoquarks_searches/04_ML_analysis/MLQ_1250/b_b_tau_tau_hadronic/Tau_LQ_1250.png has been created\n",
      "Warning in <TROOT::Append>: Replacing existing TH1: ttbar_b_b_tau_tau_hadronic (Potential memory leak).\n",
      "Info in <TCanvas::Print>: png file /disco4/SIMULACIONES/Cristian/Pheno_BSM/Leptoquarks_searches/04_ML_analysis/MLQ_1250/b_b_tau_tau_hadronic/ttbar.png has been created\n",
      "Warning in <TROOT::Append>: Replacing existing TH1: stop_b_b_tau_tau_hadronic (Potential memory leak).\n",
      "Info in <TCanvas::Print>: png file /disco4/SIMULACIONES/Cristian/Pheno_BSM/Leptoquarks_searches/04_ML_analysis/MLQ_1250/b_b_tau_tau_hadronic/stop.png has been created\n",
      "Warning in <TROOT::Append>: Replacing existing TH1: z_jets_b_b_tau_tau_hadronic (Potential memory leak).\n",
      "Info in <TCanvas::Print>: png file /disco4/SIMULACIONES/Cristian/Pheno_BSM/Leptoquarks_searches/04_ML_analysis/MLQ_1250/b_b_tau_tau_hadronic/z_jets.png has been created\n",
      "Warning in <TROOT::Append>: Replacing existing TH1: w_jets_b_b_tau_tau_hadronic (Potential memory leak).\n",
      "Info in <TCanvas::Print>: png file /disco4/SIMULACIONES/Cristian/Pheno_BSM/Leptoquarks_searches/04_ML_analysis/MLQ_1250/b_b_tau_tau_hadronic/w_jets.png has been created\n",
      "Warning in <TROOT::Append>: Replacing existing TH1: ww_b_b_tau_tau_hadronic (Potential memory leak).\n",
      "Info in <TCanvas::Print>: png file /disco4/SIMULACIONES/Cristian/Pheno_BSM/Leptoquarks_searches/04_ML_analysis/MLQ_1250/b_b_tau_tau_hadronic/ww.png has been created\n",
      "Warning in <TROOT::Append>: Replacing existing TH1: wz_b_b_tau_tau_hadronic (Potential memory leak).\n",
      "Info in <TCanvas::Print>: png file /disco4/SIMULACIONES/Cristian/Pheno_BSM/Leptoquarks_searches/04_ML_analysis/MLQ_1250/b_b_tau_tau_hadronic/wz.png has been created\n",
      "Warning in <TROOT::Append>: Replacing existing TH1: zz_b_b_tau_tau_hadronic (Potential memory leak).\n",
      "Info in <TCanvas::Print>: png file /disco4/SIMULACIONES/Cristian/Pheno_BSM/Leptoquarks_searches/04_ML_analysis/MLQ_1250/b_b_tau_tau_hadronic/zz.png has been created\n",
      "Info in <TCanvas::Print>: png file /disco4/SIMULACIONES/Cristian/Pheno_BSM/Leptoquarks_searches/04_ML_analysis/MLQ_1500/b_b_tau_tau_hadronic/LQ_LQ_1500.png has been created\n",
      "Info in <TCanvas::Print>: png file /disco4/SIMULACIONES/Cristian/Pheno_BSM/Leptoquarks_searches/04_ML_analysis/MLQ_1500/b_b_tau_tau_hadronic/Tau_LQ_1500.png has been created\n",
      "Warning in <TROOT::Append>: Replacing existing TH1: ttbar_b_b_tau_tau_hadronic (Potential memory leak).\n",
      "Info in <TCanvas::Print>: png file /disco4/SIMULACIONES/Cristian/Pheno_BSM/Leptoquarks_searches/04_ML_analysis/MLQ_1500/b_b_tau_tau_hadronic/ttbar.png has been created\n",
      "Warning in <TROOT::Append>: Replacing existing TH1: stop_b_b_tau_tau_hadronic (Potential memory leak).\n",
      "Info in <TCanvas::Print>: png file /disco4/SIMULACIONES/Cristian/Pheno_BSM/Leptoquarks_searches/04_ML_analysis/MLQ_1500/b_b_tau_tau_hadronic/stop.png has been created\n",
      "Warning in <TROOT::Append>: Replacing existing TH1: z_jets_b_b_tau_tau_hadronic (Potential memory leak).\n",
      "Info in <TCanvas::Print>: png file /disco4/SIMULACIONES/Cristian/Pheno_BSM/Leptoquarks_searches/04_ML_analysis/MLQ_1500/b_b_tau_tau_hadronic/z_jets.png has been created\n",
      "Warning in <TROOT::Append>: Replacing existing TH1: w_jets_b_b_tau_tau_hadronic (Potential memory leak).\n",
      "Info in <TCanvas::Print>: png file /disco4/SIMULACIONES/Cristian/Pheno_BSM/Leptoquarks_searches/04_ML_analysis/MLQ_1500/b_b_tau_tau_hadronic/w_jets.png has been created\n",
      "Warning in <TROOT::Append>: Replacing existing TH1: ww_b_b_tau_tau_hadronic (Potential memory leak).\n",
      "Info in <TCanvas::Print>: png file /disco4/SIMULACIONES/Cristian/Pheno_BSM/Leptoquarks_searches/04_ML_analysis/MLQ_1500/b_b_tau_tau_hadronic/ww.png has been created\n",
      "Warning in <TROOT::Append>: Replacing existing TH1: wz_b_b_tau_tau_hadronic (Potential memory leak).\n",
      "Info in <TCanvas::Print>: png file /disco4/SIMULACIONES/Cristian/Pheno_BSM/Leptoquarks_searches/04_ML_analysis/MLQ_1500/b_b_tau_tau_hadronic/wz.png has been created\n",
      "Warning in <TROOT::Append>: Replacing existing TH1: zz_b_b_tau_tau_hadronic (Potential memory leak).\n",
      "Info in <TCanvas::Print>: png file /disco4/SIMULACIONES/Cristian/Pheno_BSM/Leptoquarks_searches/04_ML_analysis/MLQ_1500/b_b_tau_tau_hadronic/zz.png has been created\n",
      "Info in <TCanvas::Print>: png file /disco4/SIMULACIONES/Cristian/Pheno_BSM/Leptoquarks_searches/04_ML_analysis/MLQ_1750/b_b_tau_tau_hadronic/LQ_LQ_1750.png has been created\n",
      "Info in <TCanvas::Print>: png file /disco4/SIMULACIONES/Cristian/Pheno_BSM/Leptoquarks_searches/04_ML_analysis/MLQ_1750/b_b_tau_tau_hadronic/Tau_LQ_1750.png has been created\n",
      "Warning in <TROOT::Append>: Replacing existing TH1: ttbar_b_b_tau_tau_hadronic (Potential memory leak).\n",
      "Info in <TCanvas::Print>: png file /disco4/SIMULACIONES/Cristian/Pheno_BSM/Leptoquarks_searches/04_ML_analysis/MLQ_1750/b_b_tau_tau_hadronic/ttbar.png has been created\n",
      "Warning in <TROOT::Append>: Replacing existing TH1: stop_b_b_tau_tau_hadronic (Potential memory leak).\n",
      "Info in <TCanvas::Print>: png file /disco4/SIMULACIONES/Cristian/Pheno_BSM/Leptoquarks_searches/04_ML_analysis/MLQ_1750/b_b_tau_tau_hadronic/stop.png has been created\n",
      "Warning in <TROOT::Append>: Replacing existing TH1: z_jets_b_b_tau_tau_hadronic (Potential memory leak).\n",
      "Info in <TCanvas::Print>: png file /disco4/SIMULACIONES/Cristian/Pheno_BSM/Leptoquarks_searches/04_ML_analysis/MLQ_1750/b_b_tau_tau_hadronic/z_jets.png has been created\n",
      "Warning in <TROOT::Append>: Replacing existing TH1: w_jets_b_b_tau_tau_hadronic (Potential memory leak).\n",
      "Info in <TCanvas::Print>: png file /disco4/SIMULACIONES/Cristian/Pheno_BSM/Leptoquarks_searches/04_ML_analysis/MLQ_1750/b_b_tau_tau_hadronic/w_jets.png has been created\n",
      "Warning in <TROOT::Append>: Replacing existing TH1: ww_b_b_tau_tau_hadronic (Potential memory leak).\n",
      "Info in <TCanvas::Print>: png file /disco4/SIMULACIONES/Cristian/Pheno_BSM/Leptoquarks_searches/04_ML_analysis/MLQ_1750/b_b_tau_tau_hadronic/ww.png has been created\n",
      "Warning in <TROOT::Append>: Replacing existing TH1: wz_b_b_tau_tau_hadronic (Potential memory leak).\n",
      "Info in <TCanvas::Print>: png file /disco4/SIMULACIONES/Cristian/Pheno_BSM/Leptoquarks_searches/04_ML_analysis/MLQ_1750/b_b_tau_tau_hadronic/wz.png has been created\n",
      "Warning in <TROOT::Append>: Replacing existing TH1: zz_b_b_tau_tau_hadronic (Potential memory leak).\n",
      "Info in <TCanvas::Print>: png file /disco4/SIMULACIONES/Cristian/Pheno_BSM/Leptoquarks_searches/04_ML_analysis/MLQ_1750/b_b_tau_tau_hadronic/zz.png has been created\n",
      "Info in <TCanvas::Print>: png file /disco4/SIMULACIONES/Cristian/Pheno_BSM/Leptoquarks_searches/04_ML_analysis/MLQ_2000/b_b_tau_tau_hadronic/LQ_LQ_2000.png has been created\n",
      "Info in <TCanvas::Print>: png file /disco4/SIMULACIONES/Cristian/Pheno_BSM/Leptoquarks_searches/04_ML_analysis/MLQ_2000/b_b_tau_tau_hadronic/Tau_LQ_2000.png has been created\n",
      "Warning in <TROOT::Append>: Replacing existing TH1: ttbar_b_b_tau_tau_hadronic (Potential memory leak).\n",
      "Info in <TCanvas::Print>: png file /disco4/SIMULACIONES/Cristian/Pheno_BSM/Leptoquarks_searches/04_ML_analysis/MLQ_2000/b_b_tau_tau_hadronic/ttbar.png has been created\n",
      "Warning in <TROOT::Append>: Replacing existing TH1: stop_b_b_tau_tau_hadronic (Potential memory leak).\n",
      "Info in <TCanvas::Print>: png file /disco4/SIMULACIONES/Cristian/Pheno_BSM/Leptoquarks_searches/04_ML_analysis/MLQ_2000/b_b_tau_tau_hadronic/stop.png has been created\n",
      "Warning in <TROOT::Append>: Replacing existing TH1: z_jets_b_b_tau_tau_hadronic (Potential memory leak).\n",
      "Info in <TCanvas::Print>: png file /disco4/SIMULACIONES/Cristian/Pheno_BSM/Leptoquarks_searches/04_ML_analysis/MLQ_2000/b_b_tau_tau_hadronic/z_jets.png has been created\n",
      "Warning in <TROOT::Append>: Replacing existing TH1: w_jets_b_b_tau_tau_hadronic (Potential memory leak).\n",
      "Info in <TCanvas::Print>: png file /disco4/SIMULACIONES/Cristian/Pheno_BSM/Leptoquarks_searches/04_ML_analysis/MLQ_2000/b_b_tau_tau_hadronic/w_jets.png has been created\n",
      "Warning in <TROOT::Append>: Replacing existing TH1: ww_b_b_tau_tau_hadronic (Potential memory leak).\n",
      "Info in <TCanvas::Print>: png file /disco4/SIMULACIONES/Cristian/Pheno_BSM/Leptoquarks_searches/04_ML_analysis/MLQ_2000/b_b_tau_tau_hadronic/ww.png has been created\n",
      "Warning in <TROOT::Append>: Replacing existing TH1: wz_b_b_tau_tau_hadronic (Potential memory leak).\n",
      "Info in <TCanvas::Print>: png file /disco4/SIMULACIONES/Cristian/Pheno_BSM/Leptoquarks_searches/04_ML_analysis/MLQ_2000/b_b_tau_tau_hadronic/wz.png has been created\n",
      "Warning in <TROOT::Append>: Replacing existing TH1: zz_b_b_tau_tau_hadronic (Potential memory leak).\n",
      "Info in <TCanvas::Print>: png file /disco4/SIMULACIONES/Cristian/Pheno_BSM/Leptoquarks_searches/04_ML_analysis/MLQ_2000/b_b_tau_tau_hadronic/zz.png has been created\n"
     ]
    }
   ],
   "source": [
    "channel=\"b_b_tau_tau_hadronic\"\n",
    "for mass in masses:\n",
    "    modelo=LQ_Log_Reg(mass,[channel],csv_files_path)\n",
    "    images_folder=os.path.join(f\"MLQ_{mass}\",f\"{channel}\")\n",
    "    os.system(f\"rm -rf '{images_folder}'\")\n",
    "    os.system(f\"mkdir -p '{images_folder}'\")\n",
    "    histograms=modelo.get_discriminator_histograms(images_folder)\n",
    "print(csv_files_path)"
   ]
  },
  {
   "cell_type": "code",
   "execution_count": null,
   "id": "277cb27b-90ac-41dc-8a4a-e20493c97ae0",
   "metadata": {},
   "outputs": [],
   "source": [
    "channel=\"b_tau_tau_semileptonic\"\n",
    "for mass in masses:\n",
    "    modelo=LQ_Log_Reg(mass,[channel],csv_files_path)\n",
    "    images_folder=os.path.join(f\"MLQ_{mass}\",f\"{channel}\")\n",
    "    os.system(f\"rm -rf '{images_folder}'\")\n",
    "    os.system(f\"mkdir -p '{images_folder}'\")\n",
    "    histograms=modelo.get_discriminator_histograms(images_folder)\n",
    "print(csv_files_path)"
   ]
  },
  {
   "cell_type": "code",
   "execution_count": null,
   "id": "f21acd5c-85dd-4cb5-bcae-1dd33947281f",
   "metadata": {},
   "outputs": [],
   "source": [
    "channel=\"b_b_tau_tau_semileptonic\"\n",
    "for mass in masses:\n",
    "    modelo=LQ_Log_Reg(mass,[channel],csv_files_path)\n",
    "    images_folder=os.path.join(f\"MLQ_{mass}\",f\"{channel}\")\n",
    "    os.system(f\"rm -rf '{images_folder}'\")\n",
    "    os.system(f\"mkdir -p '{images_folder}'\")\n",
    "    histograms=modelo.get_discriminator_histograms(images_folder)\n",
    "print(csv_files_path)"
   ]
  },
  {
   "cell_type": "raw",
   "id": "fd367981-eaf9-4569-90b1-983f8d13ee99",
   "metadata": {},
   "source": [
    "threshold=0.8"
   ]
  },
  {
   "cell_type": "raw",
   "id": "98bd6764-4d2d-4163-9d04-597126ea4046",
   "metadata": {},
   "source": [
    "integral=0\n",
    "for channel in channels:\n",
    "    h=histograms[name][channel]\n",
    "    gbin1=h.FindBin(threshold)\n",
    "    gbin2=h.GetNbinsX()\n",
    "    integral+=h.Integral(gbin1,gbin2)\n",
    "integral"
   ]
  },
  {
   "cell_type": "raw",
   "id": "6552bc7d-5f81-45a4-aac4-8942cbdeda04",
   "metadata": {},
   "source": [
    "actual_signal_yield=0\n",
    "for name in signal_names:\n",
    "    integral=0\n",
    "    for channel in channels:\n",
    "        h=histograms[name][channel]\n",
    "        gbin1=h.FindBin(threshold)\n",
    "        gbin2=h.GetNbinsX()\n",
    "        integral+=h.Integral(gbin1,gbin2)\n",
    "    integral\n",
    "    actual_signal_yield+=integral\n",
    "print(signal_names,actual_signal_yield)"
   ]
  },
  {
   "cell_type": "raw",
   "id": "5e8096c2-3f47-4613-938d-d609cbacb1a0",
   "metadata": {},
   "source": [
    "actual_bkg_yield=0\n",
    "for name in bkg_names:\n",
    "    integral=0\n",
    "    for channel in channels:\n",
    "        h=histograms[name][channel]\n",
    "        gbin1=h.FindBin(threshold)\n",
    "        gbin2=h.GetNbinsX()\n",
    "        integral+=h.Integral(gbin1,gbin2)\n",
    "    actual_bkg_yield+=integral\n",
    "print(bkg_names,actual_bkg_yield)"
   ]
  },
  {
   "cell_type": "raw",
   "id": "b2e96b90-f482-4518-9097-b34ca5d633c1",
   "metadata": {},
   "source": [
    "significance=actual_signal_yield/math.sqrt(actual_signal_yield+actual_bkg_yield)\n",
    "significance"
   ]
  },
  {
   "cell_type": "raw",
   "id": "c9a2b9ca-0af6-49f0-b0c9-0bae1234a175",
   "metadata": {},
   "source": [
    "def get_yield_by_names(hists,names,threshold):\n",
    "    signal_yield=0\n",
    "    for name in names:\n",
    "        integral=0\n",
    "        for channel in channels:\n",
    "            h=histograms[name][channel]\n",
    "            gbin1=h.FindBin(threshold)\n",
    "            gbin2=h.GetNbinsX()\n",
    "            integral+=h.Integral(gbin1,gbin2)\n",
    "        integral\n",
    "        signal_yield+=integral\n",
    "    return signal_yield"
   ]
  },
  {
   "cell_type": "raw",
   "id": "1d6c0f71-fe67-48a7-8114-f5b35506f480",
   "metadata": {},
   "source": [
    "def get_sig_by_threshold(histos,threshold=0.5):\n",
    "    actual_signal_yield=get_yield_by_names(histos,signal_names,threshold)\n",
    "    actual_bkg_yield=get_yield_by_names(histos,bkg_names,threshold)\n",
    "    return (actual_signal_yield)/math.sqrt((actual_signal_yield)+(actual_bkg_yield)+1e-6)"
   ]
  },
  {
   "cell_type": "raw",
   "id": "18b12f8d-fa4d-4b8d-b67e-480fd513924e",
   "metadata": {},
   "source": [
    "get_sig_by_threshold(histograms,0.99)"
   ]
  },
  {
   "cell_type": "raw",
   "id": "b3dd7e7c-eb98-4bf0-9037-7f5a6a6f0554",
   "metadata": {},
   "source": [
    "x=[]\n",
    "y1=[]\n",
    "y2=[]\n",
    "n=1000\n",
    "for i in range(n+1):\n",
    "    x+=[i*(1./float(n))]\n",
    "    y1+=[get_yield_by_names(histograms,bkg_names,x[i])]\n",
    "    y2+=[get_yield_by_names(histograms,signal_names,x[i])]\n",
    "x  = np.array(  x )\n",
    "y1  = np.array(  y1 )\n",
    "y2  = np.array(  y2 )\n",
    "\n",
    "c2=TCanvas(\"c2\",\"\",800,600)\n",
    "c2.SetLogy()\n",
    "c2.SetGrid()\n",
    "graph1=TGraph(n, x, y1)\n",
    "graph1.SetTitle(f\"N-Events (137/fb) (m_{{LQ}}={mass}GeV);threshold; Events\")\n",
    "graph1.GetXaxis().SetLimits(0,1)\n",
    "graph1.GetHistogram().SetMinimum(1)\n",
    "graph1.GetHistogram().SetMaximum(3e5)\n",
    "graph1.Draw(\"ALP\")\n",
    "graph1.SetLineColor(ROOT.kBlue)\n",
    "graph1.SetLineWidth(2)\n",
    "\n",
    "graph2=TGraph(n, x, y2)\n",
    "graph2.Draw(\"l-same\")\n",
    "graph2.SetLineColor(ROOT.kRed)\n",
    "graph2.SetLineWidth(2)\n",
    "c2.Draw()"
   ]
  },
  {
   "cell_type": "raw",
   "id": "c9691cf4-5adc-4276-82b6-4981e641549b",
   "metadata": {},
   "source": [
    "x=[]\n",
    "y=[]\n",
    "n=1000\n",
    "for i in range(n+1):\n",
    "    x+=[i*(1./float(n))]\n",
    "    y+=[get_yield_by_names(histograms,signal_names,x[i])]\n",
    "x  = np.array(  x )\n",
    "y  = np.array(  y )/y[0]\n",
    "\n",
    "c2=TCanvas(\"c2\",\"\",800,600)\n",
    "c2.SetGrid()\n",
    "graph=TGraph(n, x, y)\n",
    "graph.SetTitle(f\"ML-cutflow (m_{{LQ}}={mass}GeV);threshold;signal efficiency\")\n",
    "graph.GetXaxis().SetLimits(0,1)\n",
    "graph.Draw(\"ALP\")\n",
    "graph.SetLineColor(ROOT.kBlue)\n",
    "graph.SetLineWidth(2)\n",
    "c2.Draw()"
   ]
  },
  {
   "cell_type": "raw",
   "id": "918f8e30-0b39-4539-85b6-2394dfe4beb4",
   "metadata": {},
   "source": [
    "x=[]\n",
    "y=[]\n",
    "n=1000\n",
    "for i in range(n+1):\n",
    "    x+=[i*(1./float(n))]\n",
    "    y+=[get_yield_by_names(histograms,bkg_names,x[i])]\n",
    "x  = np.array(  x )\n",
    "y  = np.array(  y )/y[0]\n",
    "\n",
    "c2=TCanvas(\"c2\",\"\",800,600)\n",
    "c2.SetLogy()\n",
    "c2.SetGrid()\n",
    "graph=TGraph(n, x, y)\n",
    "graph.SetTitle(f\"ML-cutflow (m_{{LQ}}={mass}GeV);threshold;background efficiency\")\n",
    "graph.GetXaxis().SetLimits(0,1)\n",
    "graph.GetHistogram().SetMinimum(1e-5)\n",
    "graph.GetHistogram().SetMaximum(1)\n",
    "graph.Draw(\"ALP\")\n",
    "graph.SetLineColor(ROOT.kBlue)\n",
    "graph.SetLineWidth(2)\n",
    "c2.Draw()"
   ]
  },
  {
   "cell_type": "raw",
   "id": "791a29a4-24cf-4c74-97c2-580857d53d30",
   "metadata": {},
   "source": [
    "x=[]\n",
    "y=[]\n",
    "n=1000\n",
    "for i in range(n+1):\n",
    "    x+=[i*(1./float(n))]\n",
    "    y+=[get_sig_by_threshold(histograms,x[i])]\n",
    "x  = np.array(  x )\n",
    "y  = np.array(  y )\n",
    "c2=TCanvas(\"c2\",\"\",800,600)\n",
    "c2.SetGrid()\n",
    "graph=TGraph(n, x, y)\n",
    "graph.SetTitle(\"Logistic Regression significance;threshold;significance(#sigma )[137/fb]\")\n",
    "graph.GetXaxis().SetLimits(0,1)\n",
    "graph.Draw(\"ALP\")\n",
    "graph.SetLineColor(ROOT.kBlue)\n",
    "graph.SetLineWidth(2)\n",
    "c2.Draw()"
   ]
  },
  {
   "cell_type": "markdown",
   "id": "b0d302c0-bfa8-41a6-b2c7-395b2d7f8f48",
   "metadata": {},
   "source": [
    "x=[]\n",
    "y=[]\n",
    "n=100\n",
    "for i in range(n+1):\n",
    "    x+=[i*(1./float(n))]\n",
    "    y+=[get_sig_by_threshold(histograms,x[i])]\n",
    "x  = np.array(  x  )\n",
    "y  = np.array(  y  )\n",
    "print(y)"
   ]
  },
  {
   "cell_type": "raw",
   "id": "f0f9896b-e304-438e-a9cd-e9907afc66b4",
   "metadata": {},
   "source": [
    "histograms"
   ]
  },
  {
   "cell_type": "raw",
   "id": "d557a6be-44bc-4209-adda-4e8416a478ab",
   "metadata": {},
   "source": [
    "from ROOT import TFile\n",
    "import os\n"
   ]
  },
  {
   "cell_type": "raw",
   "id": "54fcae67-6dea-49a1-a43f-0c080c3bc03b",
   "metadata": {},
   "source": [
    "\n",
    "h.GetBinContent(h.GetNbinsX())"
   ]
  },
  {
   "cell_type": "raw",
   "id": "05e912bd-5e90-4168-b624-d5c6dbef073d",
   "metadata": {},
   "source": [
    "h.GetNbinsX()"
   ]
  },
  {
   "cell_type": "raw",
   "id": "9581851c-30e6-48e9-a74b-7550612f54b0",
   "metadata": {},
   "source": [
    "h.GetMinimumBin()"
   ]
  },
  {
   "cell_type": "raw",
   "id": "c68ef1f3-6f25-4612-974b-16ba7b9d5309",
   "metadata": {},
   "source": [
    "for bin_ in range(h.GetNbinsX()):\n",
    "    continue"
   ]
  },
  {
   "cell_type": "code",
   "execution_count": null,
   "id": "c07e5429-d9f5-4832-85f9-2d4ec14c3414",
   "metadata": {},
   "outputs": [],
   "source": []
  }
 ],
 "metadata": {
  "kernelspec": {
   "display_name": "Python 3 (ipykernel)",
   "language": "python",
   "name": "python3"
  },
  "language_info": {
   "codemirror_mode": {
    "name": "ipython",
    "version": 3
   },
   "file_extension": ".py",
   "mimetype": "text/x-python",
   "name": "python",
   "nbconvert_exporter": "python",
   "pygments_lexer": "ipython3",
   "version": "3.9.4"
  }
 },
 "nbformat": 4,
 "nbformat_minor": 5
}
