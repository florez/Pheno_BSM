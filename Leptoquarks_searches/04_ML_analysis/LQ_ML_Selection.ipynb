{
 "cells": [
  {
   "cell_type": "code",
   "execution_count": 1,
   "id": "4f74b301-055d-429d-ada2-7da67cd57d56",
   "metadata": {},
   "outputs": [
    {
     "name": "stdout",
     "output_type": "stream",
     "text": [
      "Welcome to JupyROOT 6.26/06\n"
     ]
    },
    {
     "name": "stderr",
     "output_type": "stream",
     "text": [
      "2022-09-20 08:37:53.512596: W tensorflow/stream_executor/platform/default/dso_loader.cc:64] Could not load dynamic library 'libcudart.so.11.0'; dlerror: libcudart.so.11.0: cannot open shared object file: No such file or directory\n",
      "2022-09-20 08:37:53.512625: I tensorflow/stream_executor/cuda/cudart_stub.cc:29] Ignore above cudart dlerror if you do not have a GPU set up on your machine.\n"
     ]
    },
    {
     "ename": "ImportError",
     "evalue": "cannot import name 'DrawDiscrtiminator' from 'bsm_ml' (/home/crisfer2694/Pheno_BSM/Leptoquarks_searches/04_ML_analysis/bsm_ml.py)",
     "output_type": "error",
     "traceback": [
      "\u001b[0;31m---------------------------------------------------------------------------\u001b[0m",
      "\u001b[0;31mImportError\u001b[0m                               Traceback (most recent call last)",
      "Input \u001b[0;32mIn [1]\u001b[0m, in \u001b[0;36m<cell line: 4>\u001b[0;34m()\u001b[0m\n\u001b[1;32m      2\u001b[0m \u001b[38;5;28;01mfrom\u001b[39;00m \u001b[38;5;21;01mROOT\u001b[39;00m \u001b[38;5;28;01mimport\u001b[39;00m \u001b[38;5;241m*\u001b[39m\n\u001b[1;32m      3\u001b[0m \u001b[38;5;28;01mfrom\u001b[39;00m \u001b[38;5;21;01mML_Clasification\u001b[39;00m \u001b[38;5;28;01mimport\u001b[39;00m LQ_Log_Reg\n\u001b[0;32m----> 4\u001b[0m \u001b[38;5;28;01mfrom\u001b[39;00m \u001b[38;5;21;01mbsm_ml\u001b[39;00m \u001b[38;5;28;01mimport\u001b[39;00m DrawDiscrtiminator\n",
      "\u001b[0;31mImportError\u001b[0m: cannot import name 'DrawDiscrtiminator' from 'bsm_ml' (/home/crisfer2694/Pheno_BSM/Leptoquarks_searches/04_ML_analysis/bsm_ml.py)"
     ]
    }
   ],
   "source": [
    "import os\n",
    "from ROOT import *\n",
    "from ML_Clasification import LQ_Log_Reg"
   ]
  },
  {
   "cell_type": "code",
   "execution_count": null,
   "id": "bb360e10-92e2-423e-aec5-7c2289bfb8cd",
   "metadata": {},
   "outputs": [],
   "source": [
    "folder_out=os.path.join(\n",
    "    os.path.dirname(os.getcwd()),\n",
    "    \"03_delphes_analysis\"\n",
    ")\n",
    "csv_files_path=os.path.join(folder_out,\"Selected_Events\")\n",
    "channel=\"b_b_tau_tau_hadronic\"\n",
    "mass=1500\n",
    "print(csv_files_path)\n"
   ]
  },
  {
   "cell_type": "code",
   "execution_count": null,
   "id": "3e697adb-67d5-43cc-a7bc-8ada22ff7af3",
   "metadata": {},
   "outputs": [],
   "source": [
    "modelo=LQ_Log_Reg(mass,channel,csv_files_path)\n",
    "logreg_model=modelo.get_log_reg_model()"
   ]
  },
  {
   "cell_type": "code",
   "execution_count": null,
   "id": "1f0a68b8",
   "metadata": {},
   "outputs": [],
   "source": [
    "images_folder=os.path.join(f\"MLQ_{mass}\",f\"{channel}\")\n",
    "os.system(f\"rm -rf '{images_folder}'\")\n",
    "os.system(f\"mkdir -p '{images_folder}'\")\n",
    "def mapping(name):\n",
    "    return DrawDiscrtiminator(name,[modelo.channel],csv_files_path,images_folder,logreg_model,modelo.features)\n",
    "histograms=dict(map(mapping,modelo.signal_names+modelo.bkg_names))"
   ]
  },
  {
   "cell_type": "code",
   "execution_count": null,
   "id": "8fe5c00a",
   "metadata": {},
   "outputs": [],
   "source": [
    "from IPython.display import Image, display\n",
    "import os\n",
    "listOfImageNames=[]\n",
    "files=next(os.walk(images_folder))[2]\n",
    "for file in files:\n",
    "    if \".png\" in file:\n",
    "        listOfImageNames+=[file]\n",
    "listOfImageNames.sort()\n",
    "for imageName in listOfImageNames:\n",
    "    display(Image(filename=os.path.join(os.getcwd(),images_folder,imageName)))\n",
    "    os.remove(os.path.join(os.getcwd(),images_folder,imageName))"
   ]
  },
  {
   "cell_type": "code",
   "execution_count": null,
   "id": "ad3053f3",
   "metadata": {},
   "outputs": [],
   "source": [
    "histograms"
   ]
  },
  {
   "cell_type": "code",
   "execution_count": null,
   "id": "47257090",
   "metadata": {},
   "outputs": [],
   "source": [
    "threshold=0.8"
   ]
  },
  {
   "cell_type": "code",
   "execution_count": null,
   "id": "7475f732",
   "metadata": {},
   "outputs": [],
   "source": [
    "integral=0\n",
    "for channel in channels:\n",
    "    h=histograms[name][channel]\n",
    "    gbin1=h.FindBin(threshold)\n",
    "    gbin2=h.GetNbinsX()\n",
    "    integral+=h.Integral(gbin1,gbin2)\n",
    "integral"
   ]
  },
  {
   "cell_type": "code",
   "execution_count": null,
   "id": "478e930e",
   "metadata": {},
   "outputs": [],
   "source": [
    "actual_signal_yield=0\n",
    "for name in signal_names:\n",
    "    integral=0\n",
    "    for channel in channels:\n",
    "        h=histograms[name][channel]\n",
    "        gbin1=h.FindBin(threshold)\n",
    "        gbin2=h.GetNbinsX()\n",
    "        integral+=h.Integral(gbin1,gbin2)\n",
    "    integral\n",
    "    actual_signal_yield+=integral\n",
    "print(signal_names,actual_signal_yield)"
   ]
  },
  {
   "cell_type": "code",
   "execution_count": null,
   "id": "fc6b1f75",
   "metadata": {},
   "outputs": [],
   "source": [
    "actual_bkg_yield=0\n",
    "for name in bkg_names:\n",
    "    integral=0\n",
    "    for channel in channels:\n",
    "        h=histograms[name][channel]\n",
    "        gbin1=h.FindBin(threshold)\n",
    "        gbin2=h.GetNbinsX()\n",
    "        integral+=h.Integral(gbin1,gbin2)\n",
    "    actual_bkg_yield+=integral\n",
    "print(bkg_names,actual_bkg_yield)"
   ]
  },
  {
   "cell_type": "code",
   "execution_count": null,
   "id": "2aef2353",
   "metadata": {},
   "outputs": [],
   "source": [
    "significance=actual_signal_yield/math.sqrt(actual_signal_yield+actual_bkg_yield)\n",
    "significance"
   ]
  },
  {
   "cell_type": "code",
   "execution_count": null,
   "id": "c887d93e",
   "metadata": {},
   "outputs": [],
   "source": [
    "def get_yield_by_names(hists,names,threshold):\n",
    "    signal_yield=0\n",
    "    for name in names:\n",
    "        integral=0\n",
    "        for channel in channels:\n",
    "            h=histograms[name][channel]\n",
    "            gbin1=h.FindBin(threshold)\n",
    "            gbin2=h.GetNbinsX()\n",
    "            integral+=h.Integral(gbin1,gbin2)\n",
    "        integral\n",
    "        signal_yield+=integral\n",
    "    return signal_yield"
   ]
  },
  {
   "cell_type": "code",
   "execution_count": null,
   "id": "facf2a9b",
   "metadata": {},
   "outputs": [],
   "source": [
    "def get_sig_by_threshold(histos,threshold=0.5):\n",
    "    actual_signal_yield=get_yield_by_names(histos,signal_names,threshold)\n",
    "    actual_bkg_yield=get_yield_by_names(histos,bkg_names,threshold)\n",
    "    return (actual_signal_yield)/math.sqrt((actual_signal_yield)+(actual_bkg_yield)+1e-6)"
   ]
  },
  {
   "cell_type": "code",
   "execution_count": null,
   "id": "6015669b",
   "metadata": {},
   "outputs": [],
   "source": [
    "get_sig_by_threshold(histograms,0.99)"
   ]
  },
  {
   "cell_type": "code",
   "execution_count": null,
   "id": "c6309403",
   "metadata": {},
   "outputs": [],
   "source": [
    "x=[]\n",
    "y1=[]\n",
    "y2=[]\n",
    "n=1000\n",
    "for i in range(n+1):\n",
    "    x+=[i*(1./float(n))]\n",
    "    y1+=[get_yield_by_names(histograms,bkg_names,x[i])]\n",
    "    y2+=[get_yield_by_names(histograms,signal_names,x[i])]\n",
    "x  = np.array(  x )\n",
    "y1  = np.array(  y1 )\n",
    "y2  = np.array(  y2 )\n",
    "\n",
    "c2=TCanvas(\"c2\",\"\",800,600)\n",
    "c2.SetLogy()\n",
    "c2.SetGrid()\n",
    "graph1=TGraph(n, x, y1)\n",
    "graph1.SetTitle(f\"N-Events (137/fb) (m_{{LQ}}={mass}GeV);threshold; Events\")\n",
    "graph1.GetXaxis().SetLimits(0,1)\n",
    "graph1.GetHistogram().SetMinimum(1)\n",
    "graph1.GetHistogram().SetMaximum(3e5)\n",
    "graph1.Draw(\"ALP\")\n",
    "graph1.SetLineColor(ROOT.kBlue)\n",
    "graph1.SetLineWidth(2)\n",
    "\n",
    "graph2=TGraph(n, x, y2)\n",
    "graph2.Draw(\"l-same\")\n",
    "graph2.SetLineColor(ROOT.kRed)\n",
    "graph2.SetLineWidth(2)\n",
    "c2.Draw()"
   ]
  },
  {
   "cell_type": "code",
   "execution_count": null,
   "id": "a7272b32",
   "metadata": {},
   "outputs": [],
   "source": [
    "x=[]\n",
    "y=[]\n",
    "n=1000\n",
    "for i in range(n+1):\n",
    "    x+=[i*(1./float(n))]\n",
    "    y+=[get_yield_by_names(histograms,signal_names,x[i])]\n",
    "x  = np.array(  x )\n",
    "y  = np.array(  y )/y[0]\n",
    "\n",
    "c2=TCanvas(\"c2\",\"\",800,600)\n",
    "c2.SetGrid()\n",
    "graph=TGraph(n, x, y)\n",
    "graph.SetTitle(f\"ML-cutflow (m_{{LQ}}={mass}GeV);threshold;signal efficiency\")\n",
    "graph.GetXaxis().SetLimits(0,1)\n",
    "graph.Draw(\"ALP\")\n",
    "graph.SetLineColor(ROOT.kBlue)\n",
    "graph.SetLineWidth(2)\n",
    "c2.Draw()"
   ]
  },
  {
   "cell_type": "code",
   "execution_count": null,
   "id": "2680b7ad",
   "metadata": {},
   "outputs": [],
   "source": [
    "x=[]\n",
    "y=[]\n",
    "n=1000\n",
    "for i in range(n+1):\n",
    "    x+=[i*(1./float(n))]\n",
    "    y+=[get_yield_by_names(histograms,bkg_names,x[i])]\n",
    "x  = np.array(  x )\n",
    "y  = np.array(  y )/y[0]\n",
    "\n",
    "c2=TCanvas(\"c2\",\"\",800,600)\n",
    "c2.SetLogy()\n",
    "c2.SetGrid()\n",
    "graph=TGraph(n, x, y)\n",
    "graph.SetTitle(f\"ML-cutflow (m_{{LQ}}={mass}GeV);threshold;background efficiency\")\n",
    "graph.GetXaxis().SetLimits(0,1)\n",
    "graph.GetHistogram().SetMinimum(1e-5)\n",
    "graph.GetHistogram().SetMaximum(1)\n",
    "graph.Draw(\"ALP\")\n",
    "graph.SetLineColor(ROOT.kBlue)\n",
    "graph.SetLineWidth(2)\n",
    "c2.Draw()"
   ]
  },
  {
   "cell_type": "code",
   "execution_count": null,
   "id": "847277a4",
   "metadata": {},
   "outputs": [],
   "source": [
    "x=[]\n",
    "y=[]\n",
    "n=1000\n",
    "for i in range(n+1):\n",
    "    x+=[i*(1./float(n))]\n",
    "    y+=[get_sig_by_threshold(histograms,x[i])]\n",
    "x  = np.array(  x )\n",
    "y  = np.array(  y )\n",
    "c2=TCanvas(\"c2\",\"\",800,600)\n",
    "c2.SetGrid()\n",
    "graph=TGraph(n, x, y)\n",
    "graph.SetTitle(\"Logistic Regression significance;threshold;significance(#sigma )[137/fb]\")\n",
    "graph.GetXaxis().SetLimits(0,1)\n",
    "graph.Draw(\"ALP\")\n",
    "graph.SetLineColor(ROOT.kBlue)\n",
    "graph.SetLineWidth(2)\n",
    "c2.Draw()"
   ]
  },
  {
   "cell_type": "code",
   "execution_count": null,
   "id": "cc93d4a3",
   "metadata": {},
   "outputs": [],
   "source": [
    "x=[]\n",
    "y=[]\n",
    "n=100\n",
    "for i in range(n+1):\n",
    "    x+=[i*(1./float(n))]\n",
    "    y+=[get_sig_by_threshold(histograms,x[i])]\n",
    "x  = np.array(  x  )\n",
    "y  = np.array(  y  )\n",
    "print(y)"
   ]
  },
  {
   "cell_type": "code",
   "execution_count": null,
   "id": "e635dd4b-8b0c-4958-bc1d-49945fc358c0",
   "metadata": {},
   "outputs": [],
   "source": [
    "histograms"
   ]
  },
  {
   "cell_type": "code",
   "execution_count": null,
   "id": "aa9cf326-9f69-4751-b634-decf1fd1bd6a",
   "metadata": {},
   "outputs": [],
   "source": [
    "from ROOT import TFile\n",
    "import os\n",
    "f = TFile(os.path.join(images_folder,\"Logistic_Regresion.root\"),\"RECREATE\")\n",
    "for signal in histograms:\n",
    "    h=histograms[signal][channel]\n",
    "    h.Write(h.GetName().removesuffix(channel))\n",
    "f.ls()"
   ]
  },
  {
   "cell_type": "code",
   "execution_count": null,
   "id": "e0868162-79dd-4af6-9a59-fb615b33dca8",
   "metadata": {},
   "outputs": [],
   "source": [
    "\n",
    "h.GetBinContent(h.GetNbinsX())"
   ]
  },
  {
   "cell_type": "code",
   "execution_count": null,
   "id": "7d82d091-1c68-4ba5-b6ed-cddc616424c0",
   "metadata": {},
   "outputs": [],
   "source": [
    "h.GetNbinsX()"
   ]
  },
  {
   "cell_type": "code",
   "execution_count": null,
   "id": "27f767f4-95e5-4e84-9624-d8703029a136",
   "metadata": {},
   "outputs": [],
   "source": [
    "h.GetMinimumBin()"
   ]
  },
  {
   "cell_type": "code",
   "execution_count": null,
   "id": "971af058-2d97-4ed7-9450-3bdbd2e07597",
   "metadata": {},
   "outputs": [],
   "source": [
    "for bin_ in range(h.GetNbinsX()):\n",
    "    continue"
   ]
  },
  {
   "cell_type": "code",
   "execution_count": null,
   "id": "c07e5429-d9f5-4832-85f9-2d4ec14c3414",
   "metadata": {},
   "outputs": [],
   "source": []
  }
 ],
 "metadata": {
  "kernelspec": {
   "display_name": "Python 3 (ipykernel)",
   "language": "python",
   "name": "python3"
  },
  "language_info": {
   "codemirror_mode": {
    "name": "ipython",
    "version": 3
   },
   "file_extension": ".py",
   "mimetype": "text/x-python",
   "name": "python",
   "nbconvert_exporter": "python",
   "pygments_lexer": "ipython3",
   "version": "3.10.6"
  }
 },
 "nbformat": 4,
 "nbformat_minor": 5
}
